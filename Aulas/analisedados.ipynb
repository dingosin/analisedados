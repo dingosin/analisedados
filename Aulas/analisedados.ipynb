{
 "cells": [
  {
   "cell_type": "markdown",
   "id": "994d7a64",
   "metadata": {},
   "source": [
    "# 1. CARREGANDO ARQUIVOS\n",
    "Importando bibliotecas "
   ]
  },
  {
   "cell_type": "code",
   "execution_count": 57,
   "id": "ca4117d3",
   "metadata": {},
   "outputs": [],
   "source": [
    "import pandas as pd\n",
    "import numpy as np\n",
    "import matplotlib.pyplot as plt"
   ]
  },
  {
   "cell_type": "markdown",
   "id": "938ca5e7",
   "metadata": {},
   "source": [
    "Importando arquivos"
   ]
  },
  {
   "cell_type": "code",
   "execution_count": 58,
   "id": "decbf3f2",
   "metadata": {},
   "outputs": [],
   "source": [
    "df1= pd.read_csv(\"./listings_cleaned.csv\", sep=\",\", header=0)"
   ]
  },
  {
   "cell_type": "code",
   "execution_count": 59,
   "id": "ddb41bc9",
   "metadata": {},
   "outputs": [],
   "source": [
    "df2= pd.read_csv(\"./reviews.csv\", sep=\",\", header=0)"
   ]
  },
  {
   "cell_type": "markdown",
   "id": "a6a95c5a",
   "metadata": {},
   "source": [
    "# 2. EXPLORANDO O DATAFRAME\n",
    "\n",
    "Verificando as informações para o merge."
   ]
  },
  {
   "cell_type": "code",
   "execution_count": 60,
   "id": "8254fb73",
   "metadata": {},
   "outputs": [
    {
     "data": {
      "text/html": [
       "<div>\n",
       "<style scoped>\n",
       "    .dataframe tbody tr th:only-of-type {\n",
       "        vertical-align: middle;\n",
       "    }\n",
       "\n",
       "    .dataframe tbody tr th {\n",
       "        vertical-align: top;\n",
       "    }\n",
       "\n",
       "    .dataframe thead th {\n",
       "        text-align: right;\n",
       "    }\n",
       "</style>\n",
       "<table border=\"1\" class=\"dataframe\">\n",
       "  <thead>\n",
       "    <tr style=\"text-align: right;\">\n",
       "      <th></th>\n",
       "      <th>id</th>\n",
       "      <th>neighbourhood_cleansed</th>\n",
       "      <th>room_type</th>\n",
       "      <th>accommodates</th>\n",
       "      <th>bathrooms</th>\n",
       "      <th>bedrooms</th>\n",
       "      <th>beds</th>\n",
       "      <th>price</th>\n",
       "    </tr>\n",
       "  </thead>\n",
       "  <tbody>\n",
       "    <tr>\n",
       "      <th>0</th>\n",
       "      <td>271975</td>\n",
       "      <td>Vidigal</td>\n",
       "      <td>Entire home/apt</td>\n",
       "      <td>4</td>\n",
       "      <td>1.0</td>\n",
       "      <td>2.0</td>\n",
       "      <td>2.0</td>\n",
       "      <td>236.0</td>\n",
       "    </tr>\n",
       "    <tr>\n",
       "      <th>1</th>\n",
       "      <td>272335</td>\n",
       "      <td>Copacabana</td>\n",
       "      <td>Entire home/apt</td>\n",
       "      <td>4</td>\n",
       "      <td>1.0</td>\n",
       "      <td>1.0</td>\n",
       "      <td>1.0</td>\n",
       "      <td>723.0</td>\n",
       "    </tr>\n",
       "    <tr>\n",
       "      <th>2</th>\n",
       "      <td>272631</td>\n",
       "      <td>Copacabana</td>\n",
       "      <td>Private room</td>\n",
       "      <td>2</td>\n",
       "      <td>1.0</td>\n",
       "      <td>1.0</td>\n",
       "      <td>2.0</td>\n",
       "      <td>1146.0</td>\n",
       "    </tr>\n",
       "    <tr>\n",
       "      <th>3</th>\n",
       "      <td>273261</td>\n",
       "      <td>Leblon</td>\n",
       "      <td>Entire home/apt</td>\n",
       "      <td>6</td>\n",
       "      <td>3.5</td>\n",
       "      <td>3.0</td>\n",
       "      <td>3.0</td>\n",
       "      <td>6742.0</td>\n",
       "    </tr>\n",
       "    <tr>\n",
       "      <th>4</th>\n",
       "      <td>273363</td>\n",
       "      <td>Santa Teresa</td>\n",
       "      <td>Private room</td>\n",
       "      <td>1</td>\n",
       "      <td>1.0</td>\n",
       "      <td>1.0</td>\n",
       "      <td>1.0</td>\n",
       "      <td>61.0</td>\n",
       "    </tr>\n",
       "    <tr>\n",
       "      <th>...</th>\n",
       "      <td>...</td>\n",
       "      <td>...</td>\n",
       "      <td>...</td>\n",
       "      <td>...</td>\n",
       "      <td>...</td>\n",
       "      <td>...</td>\n",
       "      <td>...</td>\n",
       "      <td>...</td>\n",
       "    </tr>\n",
       "    <tr>\n",
       "      <th>39494</th>\n",
       "      <td>1319593870376466401</td>\n",
       "      <td>Copacabana</td>\n",
       "      <td>Entire home/apt</td>\n",
       "      <td>4</td>\n",
       "      <td>2.0</td>\n",
       "      <td>1.0</td>\n",
       "      <td>2.0</td>\n",
       "      <td>957.0</td>\n",
       "    </tr>\n",
       "    <tr>\n",
       "      <th>39495</th>\n",
       "      <td>1319611826461021550</td>\n",
       "      <td>Jacarezinho</td>\n",
       "      <td>Entire home/apt</td>\n",
       "      <td>8</td>\n",
       "      <td>1.0</td>\n",
       "      <td>1.0</td>\n",
       "      <td>1.0</td>\n",
       "      <td>288.0</td>\n",
       "    </tr>\n",
       "    <tr>\n",
       "      <th>39496</th>\n",
       "      <td>1319620401959854025</td>\n",
       "      <td>Copacabana</td>\n",
       "      <td>Entire home/apt</td>\n",
       "      <td>6</td>\n",
       "      <td>1.0</td>\n",
       "      <td>1.0</td>\n",
       "      <td>4.0</td>\n",
       "      <td>672.0</td>\n",
       "    </tr>\n",
       "    <tr>\n",
       "      <th>39497</th>\n",
       "      <td>1319650312466603776</td>\n",
       "      <td>Ipanema</td>\n",
       "      <td>Entire home/apt</td>\n",
       "      <td>6</td>\n",
       "      <td>1.5</td>\n",
       "      <td>2.0</td>\n",
       "      <td>1.0</td>\n",
       "      <td>1083.0</td>\n",
       "    </tr>\n",
       "    <tr>\n",
       "      <th>39498</th>\n",
       "      <td>1319654458578424849</td>\n",
       "      <td>Copacabana</td>\n",
       "      <td>Entire home/apt</td>\n",
       "      <td>4</td>\n",
       "      <td>1.0</td>\n",
       "      <td>1.0</td>\n",
       "      <td>2.0</td>\n",
       "      <td>1296.0</td>\n",
       "    </tr>\n",
       "  </tbody>\n",
       "</table>\n",
       "<p>39499 rows × 8 columns</p>\n",
       "</div>"
      ],
      "text/plain": [
       "                        id neighbourhood_cleansed        room_type  \\\n",
       "0                   271975                Vidigal  Entire home/apt   \n",
       "1                   272335             Copacabana  Entire home/apt   \n",
       "2                   272631             Copacabana     Private room   \n",
       "3                   273261                 Leblon  Entire home/apt   \n",
       "4                   273363           Santa Teresa     Private room   \n",
       "...                    ...                    ...              ...   \n",
       "39494  1319593870376466401             Copacabana  Entire home/apt   \n",
       "39495  1319611826461021550            Jacarezinho  Entire home/apt   \n",
       "39496  1319620401959854025             Copacabana  Entire home/apt   \n",
       "39497  1319650312466603776                Ipanema  Entire home/apt   \n",
       "39498  1319654458578424849             Copacabana  Entire home/apt   \n",
       "\n",
       "       accommodates  bathrooms  bedrooms  beds   price  \n",
       "0                 4        1.0       2.0   2.0   236.0  \n",
       "1                 4        1.0       1.0   1.0   723.0  \n",
       "2                 2        1.0       1.0   2.0  1146.0  \n",
       "3                 6        3.5       3.0   3.0  6742.0  \n",
       "4                 1        1.0       1.0   1.0    61.0  \n",
       "...             ...        ...       ...   ...     ...  \n",
       "39494             4        2.0       1.0   2.0   957.0  \n",
       "39495             8        1.0       1.0   1.0   288.0  \n",
       "39496             6        1.0       1.0   4.0   672.0  \n",
       "39497             6        1.5       2.0   1.0  1083.0  \n",
       "39498             4        1.0       1.0   2.0  1296.0  \n",
       "\n",
       "[39499 rows x 8 columns]"
      ]
     },
     "execution_count": 60,
     "metadata": {},
     "output_type": "execute_result"
    }
   ],
   "source": [
    "df1"
   ]
  },
  {
   "cell_type": "code",
   "execution_count": 61,
   "id": "50da891b",
   "metadata": {},
   "outputs": [
    {
     "data": {
      "text/html": [
       "<div>\n",
       "<style scoped>\n",
       "    .dataframe tbody tr th:only-of-type {\n",
       "        vertical-align: middle;\n",
       "    }\n",
       "\n",
       "    .dataframe tbody tr th {\n",
       "        vertical-align: top;\n",
       "    }\n",
       "\n",
       "    .dataframe thead th {\n",
       "        text-align: right;\n",
       "    }\n",
       "</style>\n",
       "<table border=\"1\" class=\"dataframe\">\n",
       "  <thead>\n",
       "    <tr style=\"text-align: right;\">\n",
       "      <th></th>\n",
       "      <th>id</th>\n",
       "      <th>number_of_reviews</th>\n",
       "      <th>review_scores_rating</th>\n",
       "    </tr>\n",
       "  </thead>\n",
       "  <tbody>\n",
       "    <tr>\n",
       "      <th>0</th>\n",
       "      <td>272335</td>\n",
       "      <td>367</td>\n",
       "      <td>4.920000</td>\n",
       "    </tr>\n",
       "    <tr>\n",
       "      <th>1</th>\n",
       "      <td>272631</td>\n",
       "      <td>32</td>\n",
       "      <td>5.000000</td>\n",
       "    </tr>\n",
       "    <tr>\n",
       "      <th>2</th>\n",
       "      <td>273363</td>\n",
       "      <td>5</td>\n",
       "      <td>5.000000</td>\n",
       "    </tr>\n",
       "    <tr>\n",
       "      <th>3</th>\n",
       "      <td>273463</td>\n",
       "      <td>654</td>\n",
       "      <td>4.830000</td>\n",
       "    </tr>\n",
       "    <tr>\n",
       "      <th>4</th>\n",
       "      <td>273496</td>\n",
       "      <td>60</td>\n",
       "      <td>4.800000</td>\n",
       "    </tr>\n",
       "    <tr>\n",
       "      <th>...</th>\n",
       "      <td>...</td>\n",
       "      <td>...</td>\n",
       "      <td>...</td>\n",
       "    </tr>\n",
       "    <tr>\n",
       "      <th>32690</th>\n",
       "      <td>842292</td>\n",
       "      <td>68</td>\n",
       "      <td>4.760000</td>\n",
       "    </tr>\n",
       "    <tr>\n",
       "      <th>32691</th>\n",
       "      <td>730997</td>\n",
       "      <td>119</td>\n",
       "      <td>4.760000</td>\n",
       "    </tr>\n",
       "    <tr>\n",
       "      <th>32692</th>\n",
       "      <td>857217</td>\n",
       "      <td>0</td>\n",
       "      <td>4.812309</td>\n",
       "    </tr>\n",
       "    <tr>\n",
       "      <th>32693</th>\n",
       "      <td>749237</td>\n",
       "      <td>53</td>\n",
       "      <td>4.810000</td>\n",
       "    </tr>\n",
       "    <tr>\n",
       "      <th>32694</th>\n",
       "      <td>25533793</td>\n",
       "      <td>96</td>\n",
       "      <td>4.790000</td>\n",
       "    </tr>\n",
       "  </tbody>\n",
       "</table>\n",
       "<p>32695 rows × 3 columns</p>\n",
       "</div>"
      ],
      "text/plain": [
       "             id  number_of_reviews  review_scores_rating\n",
       "0        272335                367              4.920000\n",
       "1        272631                 32              5.000000\n",
       "2        273363                  5              5.000000\n",
       "3        273463                654              4.830000\n",
       "4        273496                 60              4.800000\n",
       "...         ...                ...                   ...\n",
       "32690    842292                 68              4.760000\n",
       "32691    730997                119              4.760000\n",
       "32692    857217                  0              4.812309\n",
       "32693    749237                 53              4.810000\n",
       "32694  25533793                 96              4.790000\n",
       "\n",
       "[32695 rows x 3 columns]"
      ]
     },
     "execution_count": 61,
     "metadata": {},
     "output_type": "execute_result"
    }
   ],
   "source": [
    "df2"
   ]
  },
  {
   "cell_type": "code",
   "execution_count": 62,
   "id": "b253d35e",
   "metadata": {},
   "outputs": [
    {
     "data": {
      "text/plain": [
       "(39499, 8)"
      ]
     },
     "execution_count": 62,
     "metadata": {},
     "output_type": "execute_result"
    }
   ],
   "source": [
    "df1.shape"
   ]
  },
  {
   "cell_type": "code",
   "execution_count": 63,
   "id": "02835a6d",
   "metadata": {},
   "outputs": [
    {
     "data": {
      "text/plain": [
       "(32695, 3)"
      ]
     },
     "execution_count": 63,
     "metadata": {},
     "output_type": "execute_result"
    }
   ],
   "source": [
    "df2.shape"
   ]
  },
  {
   "cell_type": "code",
   "execution_count": 64,
   "id": "d6bab6f3",
   "metadata": {},
   "outputs": [
    {
     "data": {
      "text/plain": [
       "id                           0\n",
       "neighbourhood_cleansed       0\n",
       "room_type                    0\n",
       "accommodates                 0\n",
       "bathrooms                 2890\n",
       "bedrooms                   523\n",
       "beds                      2869\n",
       "price                     2855\n",
       "dtype: int64"
      ]
     },
     "execution_count": 64,
     "metadata": {},
     "output_type": "execute_result"
    }
   ],
   "source": [
    "df1.isnull().sum()"
   ]
  },
  {
   "cell_type": "code",
   "execution_count": 65,
   "id": "2d007393",
   "metadata": {},
   "outputs": [],
   "source": [
    "df1.drop(['bathrooms', 'bedrooms', 'beds'], axis=1, inplace=True)"
   ]
  },
  {
   "cell_type": "code",
   "execution_count": 66,
   "id": "16c49860",
   "metadata": {},
   "outputs": [
    {
     "data": {
      "text/plain": [
       "id                      0\n",
       "number_of_reviews       0\n",
       "review_scores_rating    0\n",
       "dtype: int64"
      ]
     },
     "execution_count": 66,
     "metadata": {},
     "output_type": "execute_result"
    }
   ],
   "source": [
    "df2.isnull().sum()"
   ]
  },
  {
   "cell_type": "markdown",
   "id": "f02c9636",
   "metadata": {},
   "source": [
    "Aparentemente, o segundo dataframe tem menos informações, pois nem todos quartos receberam reviews e possivelmente estes não foram incluídos no segundo data frame com valores de reviews nulos. Então o merge será feito com base nesta informação."
   ]
  },
  {
   "cell_type": "code",
   "execution_count": 67,
   "id": "e5419de7",
   "metadata": {},
   "outputs": [],
   "source": [
    "dfmain = pd.merge(df1, df2, how='left', on=['id'])"
   ]
  },
  {
   "cell_type": "code",
   "execution_count": 68,
   "id": "935a62c7",
   "metadata": {},
   "outputs": [
    {
     "data": {
      "text/html": [
       "<div>\n",
       "<style scoped>\n",
       "    .dataframe tbody tr th:only-of-type {\n",
       "        vertical-align: middle;\n",
       "    }\n",
       "\n",
       "    .dataframe tbody tr th {\n",
       "        vertical-align: top;\n",
       "    }\n",
       "\n",
       "    .dataframe thead th {\n",
       "        text-align: right;\n",
       "    }\n",
       "</style>\n",
       "<table border=\"1\" class=\"dataframe\">\n",
       "  <thead>\n",
       "    <tr style=\"text-align: right;\">\n",
       "      <th></th>\n",
       "      <th>id</th>\n",
       "      <th>neighbourhood_cleansed</th>\n",
       "      <th>room_type</th>\n",
       "      <th>accommodates</th>\n",
       "      <th>price</th>\n",
       "      <th>number_of_reviews</th>\n",
       "      <th>review_scores_rating</th>\n",
       "    </tr>\n",
       "  </thead>\n",
       "  <tbody>\n",
       "    <tr>\n",
       "      <th>0</th>\n",
       "      <td>271975</td>\n",
       "      <td>Vidigal</td>\n",
       "      <td>Entire home/apt</td>\n",
       "      <td>4</td>\n",
       "      <td>236.0</td>\n",
       "      <td>NaN</td>\n",
       "      <td>NaN</td>\n",
       "    </tr>\n",
       "    <tr>\n",
       "      <th>1</th>\n",
       "      <td>272335</td>\n",
       "      <td>Copacabana</td>\n",
       "      <td>Entire home/apt</td>\n",
       "      <td>4</td>\n",
       "      <td>723.0</td>\n",
       "      <td>367.0</td>\n",
       "      <td>4.920000</td>\n",
       "    </tr>\n",
       "    <tr>\n",
       "      <th>2</th>\n",
       "      <td>272631</td>\n",
       "      <td>Copacabana</td>\n",
       "      <td>Private room</td>\n",
       "      <td>2</td>\n",
       "      <td>1146.0</td>\n",
       "      <td>32.0</td>\n",
       "      <td>5.000000</td>\n",
       "    </tr>\n",
       "    <tr>\n",
       "      <th>3</th>\n",
       "      <td>273261</td>\n",
       "      <td>Leblon</td>\n",
       "      <td>Entire home/apt</td>\n",
       "      <td>6</td>\n",
       "      <td>6742.0</td>\n",
       "      <td>0.0</td>\n",
       "      <td>4.812309</td>\n",
       "    </tr>\n",
       "    <tr>\n",
       "      <th>4</th>\n",
       "      <td>273363</td>\n",
       "      <td>Santa Teresa</td>\n",
       "      <td>Private room</td>\n",
       "      <td>1</td>\n",
       "      <td>61.0</td>\n",
       "      <td>5.0</td>\n",
       "      <td>5.000000</td>\n",
       "    </tr>\n",
       "    <tr>\n",
       "      <th>5</th>\n",
       "      <td>273463</td>\n",
       "      <td>Lagoa</td>\n",
       "      <td>Entire home/apt</td>\n",
       "      <td>6</td>\n",
       "      <td>1411.0</td>\n",
       "      <td>654.0</td>\n",
       "      <td>4.830000</td>\n",
       "    </tr>\n",
       "    <tr>\n",
       "      <th>6</th>\n",
       "      <td>273496</td>\n",
       "      <td>Leblon</td>\n",
       "      <td>Entire home/apt</td>\n",
       "      <td>6</td>\n",
       "      <td>703.0</td>\n",
       "      <td>60.0</td>\n",
       "      <td>4.800000</td>\n",
       "    </tr>\n",
       "    <tr>\n",
       "      <th>7</th>\n",
       "      <td>273753</td>\n",
       "      <td>Santa Teresa</td>\n",
       "      <td>Private room</td>\n",
       "      <td>1</td>\n",
       "      <td>59.0</td>\n",
       "      <td>4.0</td>\n",
       "      <td>4.500000</td>\n",
       "    </tr>\n",
       "  </tbody>\n",
       "</table>\n",
       "</div>"
      ],
      "text/plain": [
       "       id neighbourhood_cleansed        room_type  accommodates   price  \\\n",
       "0  271975                Vidigal  Entire home/apt             4   236.0   \n",
       "1  272335             Copacabana  Entire home/apt             4   723.0   \n",
       "2  272631             Copacabana     Private room             2  1146.0   \n",
       "3  273261                 Leblon  Entire home/apt             6  6742.0   \n",
       "4  273363           Santa Teresa     Private room             1    61.0   \n",
       "5  273463                  Lagoa  Entire home/apt             6  1411.0   \n",
       "6  273496                 Leblon  Entire home/apt             6   703.0   \n",
       "7  273753           Santa Teresa     Private room             1    59.0   \n",
       "\n",
       "   number_of_reviews  review_scores_rating  \n",
       "0                NaN                   NaN  \n",
       "1              367.0              4.920000  \n",
       "2               32.0              5.000000  \n",
       "3                0.0              4.812309  \n",
       "4                5.0              5.000000  \n",
       "5              654.0              4.830000  \n",
       "6               60.0              4.800000  \n",
       "7                4.0              4.500000  "
      ]
     },
     "execution_count": 68,
     "metadata": {},
     "output_type": "execute_result"
    }
   ],
   "source": [
    "dfmain.head(8)"
   ]
  },
  {
   "cell_type": "code",
   "execution_count": 69,
   "id": "a7058ecd",
   "metadata": {},
   "outputs": [
    {
     "data": {
      "text/plain": [
       "(39499, 7)"
      ]
     },
     "execution_count": 69,
     "metadata": {},
     "output_type": "execute_result"
    }
   ],
   "source": [
    "dfmain.shape"
   ]
  },
  {
   "cell_type": "markdown",
   "id": "58c2b7a9",
   "metadata": {},
   "source": [
    "Observando se os valores nulos de ambas colunas que contém este meliante (valores vazios), possuem a mesma quantidade de linhas."
   ]
  },
  {
   "cell_type": "code",
   "execution_count": 70,
   "id": "e5a10bed",
   "metadata": {},
   "outputs": [
    {
     "data": {
      "text/plain": [
       "id                          int64\n",
       "neighbourhood_cleansed     object\n",
       "room_type                  object\n",
       "accommodates                int64\n",
       "price                     float64\n",
       "number_of_reviews         float64\n",
       "review_scores_rating      float64\n",
       "dtype: object"
      ]
     },
     "execution_count": 70,
     "metadata": {},
     "output_type": "execute_result"
    }
   ],
   "source": [
    "dfmain.dtypes"
   ]
  },
  {
   "cell_type": "markdown",
   "id": "4e246c12",
   "metadata": {},
   "source": [
    "Observando os tipos das variáveis, mudando a ID para String para evitar que operações aritméticas sejam feitas com essa coluna."
   ]
  },
  {
   "cell_type": "code",
   "execution_count": 71,
   "id": "97b33896",
   "metadata": {},
   "outputs": [],
   "source": [
    "dfmain['id'] = dfmain['id'].astype(str)"
   ]
  },
  {
   "cell_type": "code",
   "execution_count": 72,
   "id": "9e7400d6",
   "metadata": {},
   "outputs": [
    {
     "data": {
      "text/html": [
       "<div>\n",
       "<style scoped>\n",
       "    .dataframe tbody tr th:only-of-type {\n",
       "        vertical-align: middle;\n",
       "    }\n",
       "\n",
       "    .dataframe tbody tr th {\n",
       "        vertical-align: top;\n",
       "    }\n",
       "\n",
       "    .dataframe thead th {\n",
       "        text-align: right;\n",
       "    }\n",
       "</style>\n",
       "<table border=\"1\" class=\"dataframe\">\n",
       "  <thead>\n",
       "    <tr style=\"text-align: right;\">\n",
       "      <th></th>\n",
       "      <th>id</th>\n",
       "      <th>neighbourhood_cleansed</th>\n",
       "      <th>room_type</th>\n",
       "      <th>accommodates</th>\n",
       "      <th>price</th>\n",
       "      <th>number_of_reviews</th>\n",
       "      <th>review_scores_rating</th>\n",
       "    </tr>\n",
       "  </thead>\n",
       "  <tbody>\n",
       "    <tr>\n",
       "      <th>0</th>\n",
       "      <td>271975</td>\n",
       "      <td>Vidigal</td>\n",
       "      <td>Entire home/apt</td>\n",
       "      <td>4</td>\n",
       "      <td>236.0</td>\n",
       "      <td>NaN</td>\n",
       "      <td>NaN</td>\n",
       "    </tr>\n",
       "    <tr>\n",
       "      <th>14</th>\n",
       "      <td>48901</td>\n",
       "      <td>Copacabana</td>\n",
       "      <td>Entire home/apt</td>\n",
       "      <td>11</td>\n",
       "      <td>NaN</td>\n",
       "      <td>NaN</td>\n",
       "      <td>NaN</td>\n",
       "    </tr>\n",
       "    <tr>\n",
       "      <th>18</th>\n",
       "      <td>278745</td>\n",
       "      <td>Ipanema</td>\n",
       "      <td>Entire home/apt</td>\n",
       "      <td>5</td>\n",
       "      <td>5394.0</td>\n",
       "      <td>NaN</td>\n",
       "      <td>NaN</td>\n",
       "    </tr>\n",
       "    <tr>\n",
       "      <th>19</th>\n",
       "      <td>280625</td>\n",
       "      <td>Botafogo</td>\n",
       "      <td>Private room</td>\n",
       "      <td>3</td>\n",
       "      <td>377.0</td>\n",
       "      <td>NaN</td>\n",
       "      <td>NaN</td>\n",
       "    </tr>\n",
       "    <tr>\n",
       "      <th>23</th>\n",
       "      <td>282071</td>\n",
       "      <td>Flamengo</td>\n",
       "      <td>Entire home/apt</td>\n",
       "      <td>2</td>\n",
       "      <td>438.0</td>\n",
       "      <td>NaN</td>\n",
       "      <td>NaN</td>\n",
       "    </tr>\n",
       "    <tr>\n",
       "      <th>...</th>\n",
       "      <td>...</td>\n",
       "      <td>...</td>\n",
       "      <td>...</td>\n",
       "      <td>...</td>\n",
       "      <td>...</td>\n",
       "      <td>...</td>\n",
       "      <td>...</td>\n",
       "    </tr>\n",
       "    <tr>\n",
       "      <th>39464</th>\n",
       "      <td>1319098256127948541</td>\n",
       "      <td>Copacabana</td>\n",
       "      <td>Entire home/apt</td>\n",
       "      <td>7</td>\n",
       "      <td>3214.0</td>\n",
       "      <td>NaN</td>\n",
       "      <td>NaN</td>\n",
       "    </tr>\n",
       "    <tr>\n",
       "      <th>39477</th>\n",
       "      <td>1319505930858342161</td>\n",
       "      <td>Glória</td>\n",
       "      <td>Entire home/apt</td>\n",
       "      <td>4</td>\n",
       "      <td>1057.0</td>\n",
       "      <td>NaN</td>\n",
       "      <td>NaN</td>\n",
       "    </tr>\n",
       "    <tr>\n",
       "      <th>39480</th>\n",
       "      <td>1319513224061078191</td>\n",
       "      <td>Joá</td>\n",
       "      <td>Entire home/apt</td>\n",
       "      <td>12</td>\n",
       "      <td>14950.0</td>\n",
       "      <td>NaN</td>\n",
       "      <td>NaN</td>\n",
       "    </tr>\n",
       "    <tr>\n",
       "      <th>39482</th>\n",
       "      <td>1319533235891441001</td>\n",
       "      <td>Copacabana</td>\n",
       "      <td>Private room</td>\n",
       "      <td>2</td>\n",
       "      <td>609.0</td>\n",
       "      <td>NaN</td>\n",
       "      <td>NaN</td>\n",
       "    </tr>\n",
       "    <tr>\n",
       "      <th>39491</th>\n",
       "      <td>1319585715454181161</td>\n",
       "      <td>Copacabana</td>\n",
       "      <td>Entire home/apt</td>\n",
       "      <td>10</td>\n",
       "      <td>7500.0</td>\n",
       "      <td>NaN</td>\n",
       "      <td>NaN</td>\n",
       "    </tr>\n",
       "  </tbody>\n",
       "</table>\n",
       "<p>6804 rows × 7 columns</p>\n",
       "</div>"
      ],
      "text/plain": [
       "                        id neighbourhood_cleansed        room_type  \\\n",
       "0                   271975                Vidigal  Entire home/apt   \n",
       "14                   48901             Copacabana  Entire home/apt   \n",
       "18                  278745                Ipanema  Entire home/apt   \n",
       "19                  280625               Botafogo     Private room   \n",
       "23                  282071               Flamengo  Entire home/apt   \n",
       "...                    ...                    ...              ...   \n",
       "39464  1319098256127948541             Copacabana  Entire home/apt   \n",
       "39477  1319505930858342161                 Glória  Entire home/apt   \n",
       "39480  1319513224061078191                    Joá  Entire home/apt   \n",
       "39482  1319533235891441001             Copacabana     Private room   \n",
       "39491  1319585715454181161             Copacabana  Entire home/apt   \n",
       "\n",
       "       accommodates    price  number_of_reviews  review_scores_rating  \n",
       "0                 4    236.0                NaN                   NaN  \n",
       "14               11      NaN                NaN                   NaN  \n",
       "18                5   5394.0                NaN                   NaN  \n",
       "19                3    377.0                NaN                   NaN  \n",
       "23                2    438.0                NaN                   NaN  \n",
       "...             ...      ...                ...                   ...  \n",
       "39464             7   3214.0                NaN                   NaN  \n",
       "39477             4   1057.0                NaN                   NaN  \n",
       "39480            12  14950.0                NaN                   NaN  \n",
       "39482             2    609.0                NaN                   NaN  \n",
       "39491            10   7500.0                NaN                   NaN  \n",
       "\n",
       "[6804 rows x 7 columns]"
      ]
     },
     "execution_count": 72,
     "metadata": {},
     "output_type": "execute_result"
    }
   ],
   "source": [
    "dfmain[dfmain['number_of_reviews'].isnull()]"
   ]
  },
  {
   "cell_type": "code",
   "execution_count": 73,
   "id": "6c44d90d",
   "metadata": {},
   "outputs": [
    {
     "data": {
      "text/html": [
       "<div>\n",
       "<style scoped>\n",
       "    .dataframe tbody tr th:only-of-type {\n",
       "        vertical-align: middle;\n",
       "    }\n",
       "\n",
       "    .dataframe tbody tr th {\n",
       "        vertical-align: top;\n",
       "    }\n",
       "\n",
       "    .dataframe thead th {\n",
       "        text-align: right;\n",
       "    }\n",
       "</style>\n",
       "<table border=\"1\" class=\"dataframe\">\n",
       "  <thead>\n",
       "    <tr style=\"text-align: right;\">\n",
       "      <th></th>\n",
       "      <th>id</th>\n",
       "      <th>neighbourhood_cleansed</th>\n",
       "      <th>room_type</th>\n",
       "      <th>accommodates</th>\n",
       "      <th>price</th>\n",
       "      <th>number_of_reviews</th>\n",
       "      <th>review_scores_rating</th>\n",
       "    </tr>\n",
       "  </thead>\n",
       "  <tbody>\n",
       "    <tr>\n",
       "      <th>0</th>\n",
       "      <td>271975</td>\n",
       "      <td>Vidigal</td>\n",
       "      <td>Entire home/apt</td>\n",
       "      <td>4</td>\n",
       "      <td>236.0</td>\n",
       "      <td>NaN</td>\n",
       "      <td>NaN</td>\n",
       "    </tr>\n",
       "    <tr>\n",
       "      <th>14</th>\n",
       "      <td>48901</td>\n",
       "      <td>Copacabana</td>\n",
       "      <td>Entire home/apt</td>\n",
       "      <td>11</td>\n",
       "      <td>NaN</td>\n",
       "      <td>NaN</td>\n",
       "      <td>NaN</td>\n",
       "    </tr>\n",
       "    <tr>\n",
       "      <th>18</th>\n",
       "      <td>278745</td>\n",
       "      <td>Ipanema</td>\n",
       "      <td>Entire home/apt</td>\n",
       "      <td>5</td>\n",
       "      <td>5394.0</td>\n",
       "      <td>NaN</td>\n",
       "      <td>NaN</td>\n",
       "    </tr>\n",
       "    <tr>\n",
       "      <th>19</th>\n",
       "      <td>280625</td>\n",
       "      <td>Botafogo</td>\n",
       "      <td>Private room</td>\n",
       "      <td>3</td>\n",
       "      <td>377.0</td>\n",
       "      <td>NaN</td>\n",
       "      <td>NaN</td>\n",
       "    </tr>\n",
       "    <tr>\n",
       "      <th>23</th>\n",
       "      <td>282071</td>\n",
       "      <td>Flamengo</td>\n",
       "      <td>Entire home/apt</td>\n",
       "      <td>2</td>\n",
       "      <td>438.0</td>\n",
       "      <td>NaN</td>\n",
       "      <td>NaN</td>\n",
       "    </tr>\n",
       "    <tr>\n",
       "      <th>...</th>\n",
       "      <td>...</td>\n",
       "      <td>...</td>\n",
       "      <td>...</td>\n",
       "      <td>...</td>\n",
       "      <td>...</td>\n",
       "      <td>...</td>\n",
       "      <td>...</td>\n",
       "    </tr>\n",
       "    <tr>\n",
       "      <th>39464</th>\n",
       "      <td>1319098256127948541</td>\n",
       "      <td>Copacabana</td>\n",
       "      <td>Entire home/apt</td>\n",
       "      <td>7</td>\n",
       "      <td>3214.0</td>\n",
       "      <td>NaN</td>\n",
       "      <td>NaN</td>\n",
       "    </tr>\n",
       "    <tr>\n",
       "      <th>39477</th>\n",
       "      <td>1319505930858342161</td>\n",
       "      <td>Glória</td>\n",
       "      <td>Entire home/apt</td>\n",
       "      <td>4</td>\n",
       "      <td>1057.0</td>\n",
       "      <td>NaN</td>\n",
       "      <td>NaN</td>\n",
       "    </tr>\n",
       "    <tr>\n",
       "      <th>39480</th>\n",
       "      <td>1319513224061078191</td>\n",
       "      <td>Joá</td>\n",
       "      <td>Entire home/apt</td>\n",
       "      <td>12</td>\n",
       "      <td>14950.0</td>\n",
       "      <td>NaN</td>\n",
       "      <td>NaN</td>\n",
       "    </tr>\n",
       "    <tr>\n",
       "      <th>39482</th>\n",
       "      <td>1319533235891441001</td>\n",
       "      <td>Copacabana</td>\n",
       "      <td>Private room</td>\n",
       "      <td>2</td>\n",
       "      <td>609.0</td>\n",
       "      <td>NaN</td>\n",
       "      <td>NaN</td>\n",
       "    </tr>\n",
       "    <tr>\n",
       "      <th>39491</th>\n",
       "      <td>1319585715454181161</td>\n",
       "      <td>Copacabana</td>\n",
       "      <td>Entire home/apt</td>\n",
       "      <td>10</td>\n",
       "      <td>7500.0</td>\n",
       "      <td>NaN</td>\n",
       "      <td>NaN</td>\n",
       "    </tr>\n",
       "  </tbody>\n",
       "</table>\n",
       "<p>6804 rows × 7 columns</p>\n",
       "</div>"
      ],
      "text/plain": [
       "                        id neighbourhood_cleansed        room_type  \\\n",
       "0                   271975                Vidigal  Entire home/apt   \n",
       "14                   48901             Copacabana  Entire home/apt   \n",
       "18                  278745                Ipanema  Entire home/apt   \n",
       "19                  280625               Botafogo     Private room   \n",
       "23                  282071               Flamengo  Entire home/apt   \n",
       "...                    ...                    ...              ...   \n",
       "39464  1319098256127948541             Copacabana  Entire home/apt   \n",
       "39477  1319505930858342161                 Glória  Entire home/apt   \n",
       "39480  1319513224061078191                    Joá  Entire home/apt   \n",
       "39482  1319533235891441001             Copacabana     Private room   \n",
       "39491  1319585715454181161             Copacabana  Entire home/apt   \n",
       "\n",
       "       accommodates    price  number_of_reviews  review_scores_rating  \n",
       "0                 4    236.0                NaN                   NaN  \n",
       "14               11      NaN                NaN                   NaN  \n",
       "18                5   5394.0                NaN                   NaN  \n",
       "19                3    377.0                NaN                   NaN  \n",
       "23                2    438.0                NaN                   NaN  \n",
       "...             ...      ...                ...                   ...  \n",
       "39464             7   3214.0                NaN                   NaN  \n",
       "39477             4   1057.0                NaN                   NaN  \n",
       "39480            12  14950.0                NaN                   NaN  \n",
       "39482             2    609.0                NaN                   NaN  \n",
       "39491            10   7500.0                NaN                   NaN  \n",
       "\n",
       "[6804 rows x 7 columns]"
      ]
     },
     "execution_count": 73,
     "metadata": {},
     "output_type": "execute_result"
    }
   ],
   "source": [
    "dfmain[dfmain['review_scores_rating'].isnull()]"
   ]
  },
  {
   "cell_type": "markdown",
   "id": "0786483f",
   "metadata": {},
   "source": [
    "Aqui comecei o data cleaning. O meu problema inicial aqui foi que, se eu apagar as linhas que tenham colunas vazias, não conseguiria fazer uma analise como \"Média do preço de um imóvel em Copacabana\" sem risco de viés na minha análise, já que quase 7 mil linhas é um valor razoável de influência. Poderia fazer uma média para preencher os valores nulos, mas minha abordagem daqui pra frente dependeria das perguntas de negócio e de que colunas teria que usar em análises para respondê-las. Em uma situação hipotética, onde eu não teria quais perguntas o cliente quer realizar, farei ambos os métodos, armazenando em variáveis diferentes para trabalhar com o que mais seja conveniente no futuro diante das propostas que podem surgir. Pode ser que acabe por ignorar um dos caminhos, mas ter os dois disponíveis me deixa mais confortável."
   ]
  },
  {
   "cell_type": "markdown",
   "id": "b07aeff9",
   "metadata": {},
   "source": [
    "# Caminho eliminando os nulos:"
   ]
  },
  {
   "cell_type": "code",
   "execution_count": 74,
   "id": "5068d8b0",
   "metadata": {},
   "outputs": [],
   "source": [
    "dfmain_sem_nulos = dfmain.dropna(subset=['number_of_reviews', 'review_scores_rating'])"
   ]
  },
  {
   "cell_type": "markdown",
   "id": "ff0ef69c",
   "metadata": {},
   "source": [
    "Interessante aqui é que, ao remover os valores nulos das colunas de rating e reviews, a coluna preço se acertou também. Mas, nem tudo é pêra com chocolate, dos 39499 valores originais, restou 32695 que dá cerca de uns 17% de perca, o que dá uma possibilidade razoável de surgir analises inviezadas."
   ]
  },
  {
   "cell_type": "code",
   "execution_count": 75,
   "id": "3138e3d2",
   "metadata": {},
   "outputs": [
    {
     "data": {
      "text/plain": [
       "id                        0\n",
       "neighbourhood_cleansed    0\n",
       "room_type                 0\n",
       "accommodates              0\n",
       "price                     0\n",
       "number_of_reviews         0\n",
       "review_scores_rating      0\n",
       "dtype: int64"
      ]
     },
     "execution_count": 75,
     "metadata": {},
     "output_type": "execute_result"
    }
   ],
   "source": [
    "dfmain_sem_nulos.isnull().sum()"
   ]
  },
  {
   "cell_type": "code",
   "execution_count": 76,
   "id": "060f7139",
   "metadata": {},
   "outputs": [
    {
     "data": {
      "text/plain": [
       "(32695, 7)"
      ]
     },
     "execution_count": 76,
     "metadata": {},
     "output_type": "execute_result"
    }
   ],
   "source": [
    "dfmain_sem_nulos.shape"
   ]
  },
  {
   "cell_type": "markdown",
   "id": "d4e0e638",
   "metadata": {},
   "source": [
    "# Caminho dois: Preenchendo com a média os valores faltantes de três colunas. Price, number_of_reviews e review_scores_rating."
   ]
  },
  {
   "cell_type": "code",
   "execution_count": 77,
   "id": "a6a265a3",
   "metadata": {},
   "outputs": [],
   "source": [
    "dfmain['number_of_reviews'] = dfmain['number_of_reviews'].fillna(dfmain['number_of_reviews'].mean())"
   ]
  },
  {
   "cell_type": "code",
   "execution_count": 78,
   "id": "1c1b9295",
   "metadata": {},
   "outputs": [],
   "source": [
    "dfmain['price'] = dfmain['price'].fillna(dfmain['price'].mean())"
   ]
  },
  {
   "cell_type": "code",
   "execution_count": 79,
   "id": "3b3f8f45",
   "metadata": {},
   "outputs": [],
   "source": [
    "dfmain['review_scores_rating'] = dfmain['review_scores_rating'].fillna(dfmain['review_scores_rating'].mean())"
   ]
  },
  {
   "cell_type": "code",
   "execution_count": 80,
   "id": "c598df60",
   "metadata": {},
   "outputs": [
    {
     "data": {
      "text/plain": [
       "id                        0\n",
       "neighbourhood_cleansed    0\n",
       "room_type                 0\n",
       "accommodates              0\n",
       "price                     0\n",
       "number_of_reviews         0\n",
       "review_scores_rating      0\n",
       "dtype: int64"
      ]
     },
     "execution_count": 80,
     "metadata": {},
     "output_type": "execute_result"
    }
   ],
   "source": [
    "dfmain.isnull().sum()\n"
   ]
  },
  {
   "cell_type": "code",
   "execution_count": 81,
   "id": "2bd1a303",
   "metadata": {},
   "outputs": [
    {
     "data": {
      "text/html": [
       "<div>\n",
       "<style scoped>\n",
       "    .dataframe tbody tr th:only-of-type {\n",
       "        vertical-align: middle;\n",
       "    }\n",
       "\n",
       "    .dataframe tbody tr th {\n",
       "        vertical-align: top;\n",
       "    }\n",
       "\n",
       "    .dataframe thead th {\n",
       "        text-align: right;\n",
       "    }\n",
       "</style>\n",
       "<table border=\"1\" class=\"dataframe\">\n",
       "  <thead>\n",
       "    <tr style=\"text-align: right;\">\n",
       "      <th></th>\n",
       "      <th>id</th>\n",
       "      <th>neighbourhood_cleansed</th>\n",
       "      <th>room_type</th>\n",
       "      <th>accommodates</th>\n",
       "      <th>price</th>\n",
       "      <th>number_of_reviews</th>\n",
       "      <th>review_scores_rating</th>\n",
       "    </tr>\n",
       "  </thead>\n",
       "  <tbody>\n",
       "    <tr>\n",
       "      <th>0</th>\n",
       "      <td>271975</td>\n",
       "      <td>Vidigal</td>\n",
       "      <td>Entire home/apt</td>\n",
       "      <td>4</td>\n",
       "      <td>236.0</td>\n",
       "      <td>24.1321</td>\n",
       "      <td>4.816146</td>\n",
       "    </tr>\n",
       "    <tr>\n",
       "      <th>1</th>\n",
       "      <td>272335</td>\n",
       "      <td>Copacabana</td>\n",
       "      <td>Entire home/apt</td>\n",
       "      <td>4</td>\n",
       "      <td>723.0</td>\n",
       "      <td>367.0000</td>\n",
       "      <td>4.920000</td>\n",
       "    </tr>\n",
       "    <tr>\n",
       "      <th>2</th>\n",
       "      <td>272631</td>\n",
       "      <td>Copacabana</td>\n",
       "      <td>Private room</td>\n",
       "      <td>2</td>\n",
       "      <td>1146.0</td>\n",
       "      <td>32.0000</td>\n",
       "      <td>5.000000</td>\n",
       "    </tr>\n",
       "    <tr>\n",
       "      <th>3</th>\n",
       "      <td>273261</td>\n",
       "      <td>Leblon</td>\n",
       "      <td>Entire home/apt</td>\n",
       "      <td>6</td>\n",
       "      <td>6742.0</td>\n",
       "      <td>0.0000</td>\n",
       "      <td>4.812309</td>\n",
       "    </tr>\n",
       "    <tr>\n",
       "      <th>4</th>\n",
       "      <td>273363</td>\n",
       "      <td>Santa Teresa</td>\n",
       "      <td>Private room</td>\n",
       "      <td>1</td>\n",
       "      <td>61.0</td>\n",
       "      <td>5.0000</td>\n",
       "      <td>5.000000</td>\n",
       "    </tr>\n",
       "    <tr>\n",
       "      <th>5</th>\n",
       "      <td>273463</td>\n",
       "      <td>Lagoa</td>\n",
       "      <td>Entire home/apt</td>\n",
       "      <td>6</td>\n",
       "      <td>1411.0</td>\n",
       "      <td>654.0000</td>\n",
       "      <td>4.830000</td>\n",
       "    </tr>\n",
       "    <tr>\n",
       "      <th>6</th>\n",
       "      <td>273496</td>\n",
       "      <td>Leblon</td>\n",
       "      <td>Entire home/apt</td>\n",
       "      <td>6</td>\n",
       "      <td>703.0</td>\n",
       "      <td>60.0000</td>\n",
       "      <td>4.800000</td>\n",
       "    </tr>\n",
       "    <tr>\n",
       "      <th>7</th>\n",
       "      <td>273753</td>\n",
       "      <td>Santa Teresa</td>\n",
       "      <td>Private room</td>\n",
       "      <td>1</td>\n",
       "      <td>59.0</td>\n",
       "      <td>4.0000</td>\n",
       "      <td>4.500000</td>\n",
       "    </tr>\n",
       "  </tbody>\n",
       "</table>\n",
       "</div>"
      ],
      "text/plain": [
       "       id neighbourhood_cleansed        room_type  accommodates   price  \\\n",
       "0  271975                Vidigal  Entire home/apt             4   236.0   \n",
       "1  272335             Copacabana  Entire home/apt             4   723.0   \n",
       "2  272631             Copacabana     Private room             2  1146.0   \n",
       "3  273261                 Leblon  Entire home/apt             6  6742.0   \n",
       "4  273363           Santa Teresa     Private room             1    61.0   \n",
       "5  273463                  Lagoa  Entire home/apt             6  1411.0   \n",
       "6  273496                 Leblon  Entire home/apt             6   703.0   \n",
       "7  273753           Santa Teresa     Private room             1    59.0   \n",
       "\n",
       "   number_of_reviews  review_scores_rating  \n",
       "0            24.1321              4.816146  \n",
       "1           367.0000              4.920000  \n",
       "2            32.0000              5.000000  \n",
       "3             0.0000              4.812309  \n",
       "4             5.0000              5.000000  \n",
       "5           654.0000              4.830000  \n",
       "6            60.0000              4.800000  \n",
       "7             4.0000              4.500000  "
      ]
     },
     "execution_count": 81,
     "metadata": {},
     "output_type": "execute_result"
    }
   ],
   "source": [
    "dfmain.head(8)"
   ]
  },
  {
   "cell_type": "markdown",
   "id": "abb696c8",
   "metadata": {},
   "source": [
    "Comparando para se ter uma ideia da quantidade de dados de ambos"
   ]
  },
  {
   "cell_type": "code",
   "execution_count": 82,
   "id": "7bb72b48",
   "metadata": {},
   "outputs": [
    {
     "data": {
      "text/plain": [
       "(39499, 7)"
      ]
     },
     "execution_count": 82,
     "metadata": {},
     "output_type": "execute_result"
    }
   ],
   "source": [
    "dfmain.shape"
   ]
  },
  {
   "cell_type": "code",
   "execution_count": 83,
   "id": "0b0b8006",
   "metadata": {},
   "outputs": [
    {
     "data": {
      "text/plain": [
       "(32695, 7)"
      ]
     },
     "execution_count": 83,
     "metadata": {},
     "output_type": "execute_result"
    }
   ],
   "source": [
    "dfmain_sem_nulos.shape"
   ]
  },
  {
   "cell_type": "markdown",
   "id": "c46032e5",
   "metadata": {},
   "source": [
    "Percebi que, em ocorrências onde não se obteve nenhuma avaliação dos clientes, o review_scores_rating assumiu um valor mediano. Não acho isso o certo, então irei zerar o valor desta coluna quando o número de avaliação estiver zerado também."
   ]
  },
  {
   "cell_type": "code",
   "execution_count": 84,
   "id": "9f963d42",
   "metadata": {},
   "outputs": [],
   "source": [
    "#Eliminando médias calculadas em colunas de media de rating onde o numero de reviews foi 0\n",
    "dfmain.loc[dfmain['number_of_reviews'] == 0, 'review_scores_rating'] = 0"
   ]
  },
  {
   "cell_type": "markdown",
   "id": "60d83268",
   "metadata": {},
   "source": [
    "# Iniciando trabalho com Outliers"
   ]
  },
  {
   "cell_type": "markdown",
   "id": "33e72d28",
   "metadata": {},
   "source": [
    "Visualizando os meliantes:"
   ]
  },
  {
   "cell_type": "code",
   "execution_count": 85,
   "id": "84c2bc51",
   "metadata": {},
   "outputs": [
    {
     "data": {
      "text/plain": [
       "<Axes: >"
      ]
     },
     "execution_count": 85,
     "metadata": {},
     "output_type": "execute_result"
    },
    {
     "data": {
      "image/png": "[encoded data removed]",
      "text/plain": [
       "<Figure size 640x480 with 1 Axes>"
      ]
     },
     "metadata": {},
     "output_type": "display_data"
    }
   ],
   "source": [
    "dfmain['price'].plot(kind=\"box\")"
   ]
  },
  {
   "cell_type": "markdown",
   "id": "05a4e778",
   "metadata": {},
   "source": [
    "Não vi valores negativos, mas pela prática..."
   ]
  },
  {
   "cell_type": "code",
   "execution_count": 86,
   "id": "5a8a746a",
   "metadata": {},
   "outputs": [],
   "source": [
    "dfpositivos = dfmain[dfmain['price'] > 0]"
   ]
  },
  {
   "cell_type": "markdown",
   "id": "1e4f8113",
   "metadata": {},
   "source": [
    "Retirando os quadrantes e limites:"
   ]
  },
  {
   "cell_type": "code",
   "execution_count": 87,
   "id": "f249500c",
   "metadata": {},
   "outputs": [],
   "source": [
    "Q1 = dfpositivos['price'].quantile(0.25)"
   ]
  },
  {
   "cell_type": "code",
   "execution_count": 88,
   "id": "2a29ff01",
   "metadata": {},
   "outputs": [],
   "source": [
    "Q3 = dfpositivos['price'].quantile(0.75)"
   ]
  },
  {
   "cell_type": "code",
   "execution_count": 89,
   "id": "df5852fb",
   "metadata": {},
   "outputs": [],
   "source": [
    "IQR = Q3 - Q1"
   ]
  },
  {
   "cell_type": "code",
   "execution_count": 90,
   "id": "e3b92c84",
   "metadata": {},
   "outputs": [],
   "source": [
    "lsuperior = Q3 + 1.5 * IQR\n",
    "linferior = Q1 - 1.5 * IQR\n"
   ]
  },
  {
   "cell_type": "markdown",
   "id": "f7ea0e13",
   "metadata": {},
   "source": [
    "Visualizando os valores, por que sim e por que eu gosto:"
   ]
  },
  {
   "cell_type": "code",
   "execution_count": 91,
   "id": "406591ee",
   "metadata": {},
   "outputs": [
    {
     "name": "stdout",
     "output_type": "stream",
     "text": [
      "Q3: 1227.12\n",
      "Q1: 429.00\n",
      "IQR: 798.12\n",
      "Limite Superior: 2424.30\n",
      "Limite Inferior: -768.18\n"
     ]
    }
   ],
   "source": [
    "print(f\"Q3: {Q3:.2f}\\nQ1: {Q1:.2f}\\nIQR: {IQR:.2f}\\nLimite Superior: {lsuperior:.2f}\\nLimite Inferior: {linferior:.2f}\")"
   ]
  },
  {
   "cell_type": "code",
   "execution_count": 92,
   "id": "0db926d8",
   "metadata": {},
   "outputs": [],
   "source": [
    "#Identificando os Outliers\n",
    "#priceout = Outliers da coluna price\n",
    "priceout = dfpositivos[(dfpositivos['price'] < linferior) | (dfpositivos['price'] > lsuperior)]"
   ]
  },
  {
   "cell_type": "markdown",
   "id": "cb15db78",
   "metadata": {},
   "source": [
    "Observando os valores"
   ]
  },
  {
   "cell_type": "code",
   "execution_count": 93,
   "id": "135ad3b2",
   "metadata": {},
   "outputs": [
    {
     "data": {
      "text/html": [
       "<div>\n",
       "<style scoped>\n",
       "    .dataframe tbody tr th:only-of-type {\n",
       "        vertical-align: middle;\n",
       "    }\n",
       "\n",
       "    .dataframe tbody tr th {\n",
       "        vertical-align: top;\n",
       "    }\n",
       "\n",
       "    .dataframe thead th {\n",
       "        text-align: right;\n",
       "    }\n",
       "</style>\n",
       "<table border=\"1\" class=\"dataframe\">\n",
       "  <thead>\n",
       "    <tr style=\"text-align: right;\">\n",
       "      <th></th>\n",
       "      <th>id</th>\n",
       "      <th>neighbourhood_cleansed</th>\n",
       "      <th>room_type</th>\n",
       "      <th>accommodates</th>\n",
       "      <th>price</th>\n",
       "      <th>number_of_reviews</th>\n",
       "      <th>review_scores_rating</th>\n",
       "    </tr>\n",
       "  </thead>\n",
       "  <tbody>\n",
       "    <tr>\n",
       "      <th>3</th>\n",
       "      <td>273261</td>\n",
       "      <td>Leblon</td>\n",
       "      <td>Entire home/apt</td>\n",
       "      <td>6</td>\n",
       "      <td>6742.0</td>\n",
       "      <td>0.0000</td>\n",
       "      <td>0.000000</td>\n",
       "    </tr>\n",
       "    <tr>\n",
       "      <th>13</th>\n",
       "      <td>48305</td>\n",
       "      <td>Ipanema</td>\n",
       "      <td>Entire home/apt</td>\n",
       "      <td>13</td>\n",
       "      <td>3532.0</td>\n",
       "      <td>180.0000</td>\n",
       "      <td>4.760000</td>\n",
       "    </tr>\n",
       "    <tr>\n",
       "      <th>16</th>\n",
       "      <td>50759</td>\n",
       "      <td>Barra da Tijuca</td>\n",
       "      <td>Entire home/apt</td>\n",
       "      <td>14</td>\n",
       "      <td>6000.0</td>\n",
       "      <td>7.0000</td>\n",
       "      <td>4.570000</td>\n",
       "    </tr>\n",
       "    <tr>\n",
       "      <th>18</th>\n",
       "      <td>278745</td>\n",
       "      <td>Ipanema</td>\n",
       "      <td>Entire home/apt</td>\n",
       "      <td>5</td>\n",
       "      <td>5394.0</td>\n",
       "      <td>24.1321</td>\n",
       "      <td>4.816146</td>\n",
       "    </tr>\n",
       "    <tr>\n",
       "      <th>25</th>\n",
       "      <td>284910</td>\n",
       "      <td>Copacabana</td>\n",
       "      <td>Entire home/apt</td>\n",
       "      <td>4</td>\n",
       "      <td>5054.0</td>\n",
       "      <td>43.0000</td>\n",
       "      <td>4.450000</td>\n",
       "    </tr>\n",
       "    <tr>\n",
       "      <th>28</th>\n",
       "      <td>53533</td>\n",
       "      <td>Joá</td>\n",
       "      <td>Entire home/apt</td>\n",
       "      <td>10</td>\n",
       "      <td>2697.0</td>\n",
       "      <td>37.0000</td>\n",
       "      <td>4.950000</td>\n",
       "    </tr>\n",
       "    <tr>\n",
       "      <th>36</th>\n",
       "      <td>76245</td>\n",
       "      <td>Copacabana</td>\n",
       "      <td>Entire home/apt</td>\n",
       "      <td>12</td>\n",
       "      <td>4567.0</td>\n",
       "      <td>160.0000</td>\n",
       "      <td>4.390000</td>\n",
       "    </tr>\n",
       "    <tr>\n",
       "      <th>69</th>\n",
       "      <td>298395</td>\n",
       "      <td>Copacabana</td>\n",
       "      <td>Entire home/apt</td>\n",
       "      <td>8</td>\n",
       "      <td>3029.0</td>\n",
       "      <td>53.0000</td>\n",
       "      <td>4.920000</td>\n",
       "    </tr>\n",
       "  </tbody>\n",
       "</table>\n",
       "</div>"
      ],
      "text/plain": [
       "        id neighbourhood_cleansed        room_type  accommodates   price  \\\n",
       "3   273261                 Leblon  Entire home/apt             6  6742.0   \n",
       "13   48305                Ipanema  Entire home/apt            13  3532.0   \n",
       "16   50759        Barra da Tijuca  Entire home/apt            14  6000.0   \n",
       "18  278745                Ipanema  Entire home/apt             5  5394.0   \n",
       "25  284910             Copacabana  Entire home/apt             4  5054.0   \n",
       "28   53533                    Joá  Entire home/apt            10  2697.0   \n",
       "36   76245             Copacabana  Entire home/apt            12  4567.0   \n",
       "69  298395             Copacabana  Entire home/apt             8  3029.0   \n",
       "\n",
       "    number_of_reviews  review_scores_rating  \n",
       "3              0.0000              0.000000  \n",
       "13           180.0000              4.760000  \n",
       "16             7.0000              4.570000  \n",
       "18            24.1321              4.816146  \n",
       "25            43.0000              4.450000  \n",
       "28            37.0000              4.950000  \n",
       "36           160.0000              4.390000  \n",
       "69            53.0000              4.920000  "
      ]
     },
     "execution_count": 93,
     "metadata": {},
     "output_type": "execute_result"
    }
   ],
   "source": [
    "priceout.head(8)"
   ]
  },
  {
   "cell_type": "markdown",
   "id": "d432e9bc",
   "metadata": {},
   "source": [
    "Observando a quantidade de valores que serão removidos"
   ]
  },
  {
   "cell_type": "code",
   "execution_count": 94,
   "id": "892536d0",
   "metadata": {},
   "outputs": [
    {
     "data": {
      "text/plain": [
       "(2994, 7)"
      ]
     },
     "execution_count": 94,
     "metadata": {},
     "output_type": "execute_result"
    }
   ],
   "source": [
    "priceout.shape"
   ]
  },
  {
   "cell_type": "code",
   "execution_count": 95,
   "id": "f43acaaa",
   "metadata": {},
   "outputs": [],
   "source": [
    "#pricetrue = variavel slice do dfmain, porém sem outliers\n",
    "pricetrue = dfpositivos[(dfpositivos['price'] > linferior) & (dfpositivos['price'] < lsuperior)]"
   ]
  },
  {
   "cell_type": "code",
   "execution_count": 96,
   "id": "4626877c",
   "metadata": {},
   "outputs": [
    {
     "data": {
      "text/html": [
       "<div>\n",
       "<style scoped>\n",
       "    .dataframe tbody tr th:only-of-type {\n",
       "        vertical-align: middle;\n",
       "    }\n",
       "\n",
       "    .dataframe tbody tr th {\n",
       "        vertical-align: top;\n",
       "    }\n",
       "\n",
       "    .dataframe thead th {\n",
       "        text-align: right;\n",
       "    }\n",
       "</style>\n",
       "<table border=\"1\" class=\"dataframe\">\n",
       "  <thead>\n",
       "    <tr style=\"text-align: right;\">\n",
       "      <th></th>\n",
       "      <th>id</th>\n",
       "      <th>neighbourhood_cleansed</th>\n",
       "      <th>room_type</th>\n",
       "      <th>accommodates</th>\n",
       "      <th>price</th>\n",
       "      <th>number_of_reviews</th>\n",
       "      <th>review_scores_rating</th>\n",
       "    </tr>\n",
       "  </thead>\n",
       "  <tbody>\n",
       "    <tr>\n",
       "      <th>0</th>\n",
       "      <td>271975</td>\n",
       "      <td>Vidigal</td>\n",
       "      <td>Entire home/apt</td>\n",
       "      <td>4</td>\n",
       "      <td>236.0</td>\n",
       "      <td>24.1321</td>\n",
       "      <td>4.816146</td>\n",
       "    </tr>\n",
       "    <tr>\n",
       "      <th>1</th>\n",
       "      <td>272335</td>\n",
       "      <td>Copacabana</td>\n",
       "      <td>Entire home/apt</td>\n",
       "      <td>4</td>\n",
       "      <td>723.0</td>\n",
       "      <td>367.0000</td>\n",
       "      <td>4.920000</td>\n",
       "    </tr>\n",
       "    <tr>\n",
       "      <th>2</th>\n",
       "      <td>272631</td>\n",
       "      <td>Copacabana</td>\n",
       "      <td>Private room</td>\n",
       "      <td>2</td>\n",
       "      <td>1146.0</td>\n",
       "      <td>32.0000</td>\n",
       "      <td>5.000000</td>\n",
       "    </tr>\n",
       "    <tr>\n",
       "      <th>4</th>\n",
       "      <td>273363</td>\n",
       "      <td>Santa Teresa</td>\n",
       "      <td>Private room</td>\n",
       "      <td>1</td>\n",
       "      <td>61.0</td>\n",
       "      <td>5.0000</td>\n",
       "      <td>5.000000</td>\n",
       "    </tr>\n",
       "    <tr>\n",
       "      <th>5</th>\n",
       "      <td>273463</td>\n",
       "      <td>Lagoa</td>\n",
       "      <td>Entire home/apt</td>\n",
       "      <td>6</td>\n",
       "      <td>1411.0</td>\n",
       "      <td>654.0000</td>\n",
       "      <td>4.830000</td>\n",
       "    </tr>\n",
       "    <tr>\n",
       "      <th>6</th>\n",
       "      <td>273496</td>\n",
       "      <td>Leblon</td>\n",
       "      <td>Entire home/apt</td>\n",
       "      <td>6</td>\n",
       "      <td>703.0</td>\n",
       "      <td>60.0000</td>\n",
       "      <td>4.800000</td>\n",
       "    </tr>\n",
       "    <tr>\n",
       "      <th>7</th>\n",
       "      <td>273753</td>\n",
       "      <td>Santa Teresa</td>\n",
       "      <td>Private room</td>\n",
       "      <td>1</td>\n",
       "      <td>59.0</td>\n",
       "      <td>4.0000</td>\n",
       "      <td>4.500000</td>\n",
       "    </tr>\n",
       "    <tr>\n",
       "      <th>8</th>\n",
       "      <td>274116</td>\n",
       "      <td>Santa Teresa</td>\n",
       "      <td>Entire home/apt</td>\n",
       "      <td>3</td>\n",
       "      <td>225.0</td>\n",
       "      <td>48.0000</td>\n",
       "      <td>4.920000</td>\n",
       "    </tr>\n",
       "  </tbody>\n",
       "</table>\n",
       "</div>"
      ],
      "text/plain": [
       "       id neighbourhood_cleansed        room_type  accommodates   price  \\\n",
       "0  271975                Vidigal  Entire home/apt             4   236.0   \n",
       "1  272335             Copacabana  Entire home/apt             4   723.0   \n",
       "2  272631             Copacabana     Private room             2  1146.0   \n",
       "4  273363           Santa Teresa     Private room             1    61.0   \n",
       "5  273463                  Lagoa  Entire home/apt             6  1411.0   \n",
       "6  273496                 Leblon  Entire home/apt             6   703.0   \n",
       "7  273753           Santa Teresa     Private room             1    59.0   \n",
       "8  274116           Santa Teresa  Entire home/apt             3   225.0   \n",
       "\n",
       "   number_of_reviews  review_scores_rating  \n",
       "0            24.1321              4.816146  \n",
       "1           367.0000              4.920000  \n",
       "2            32.0000              5.000000  \n",
       "4             5.0000              5.000000  \n",
       "5           654.0000              4.830000  \n",
       "6            60.0000              4.800000  \n",
       "7             4.0000              4.500000  \n",
       "8            48.0000              4.920000  "
      ]
     },
     "execution_count": 96,
     "metadata": {},
     "output_type": "execute_result"
    }
   ],
   "source": [
    "pricetrue.head(8)"
   ]
  },
  {
   "cell_type": "code",
   "execution_count": 97,
   "id": "d023a925",
   "metadata": {},
   "outputs": [
    {
     "data": {
      "text/plain": [
       "(36505, 7)"
      ]
     },
     "execution_count": 97,
     "metadata": {},
     "output_type": "execute_result"
    }
   ],
   "source": [
    "pricetrue.shape"
   ]
  },
  {
   "cell_type": "code",
   "execution_count": 98,
   "id": "47ca7db6",
   "metadata": {},
   "outputs": [
    {
     "data": {
      "text/html": [
       "<div>\n",
       "<style scoped>\n",
       "    .dataframe tbody tr th:only-of-type {\n",
       "        vertical-align: middle;\n",
       "    }\n",
       "\n",
       "    .dataframe tbody tr th {\n",
       "        vertical-align: top;\n",
       "    }\n",
       "\n",
       "    .dataframe thead th {\n",
       "        text-align: right;\n",
       "    }\n",
       "</style>\n",
       "<table border=\"1\" class=\"dataframe\">\n",
       "  <thead>\n",
       "    <tr style=\"text-align: right;\">\n",
       "      <th></th>\n",
       "      <th>id</th>\n",
       "      <th>neighbourhood_cleansed</th>\n",
       "      <th>room_type</th>\n",
       "      <th>accommodates</th>\n",
       "      <th>price</th>\n",
       "      <th>number_of_reviews</th>\n",
       "      <th>review_scores_rating</th>\n",
       "    </tr>\n",
       "  </thead>\n",
       "  <tbody>\n",
       "    <tr>\n",
       "      <th>0</th>\n",
       "      <td>271975</td>\n",
       "      <td>Vidigal</td>\n",
       "      <td>Entire home/apt</td>\n",
       "      <td>4</td>\n",
       "      <td>236.0</td>\n",
       "      <td>24.1321</td>\n",
       "      <td>4.816146</td>\n",
       "    </tr>\n",
       "    <tr>\n",
       "      <th>1</th>\n",
       "      <td>272335</td>\n",
       "      <td>Copacabana</td>\n",
       "      <td>Entire home/apt</td>\n",
       "      <td>4</td>\n",
       "      <td>723.0</td>\n",
       "      <td>367.0000</td>\n",
       "      <td>4.920000</td>\n",
       "    </tr>\n",
       "    <tr>\n",
       "      <th>2</th>\n",
       "      <td>272631</td>\n",
       "      <td>Copacabana</td>\n",
       "      <td>Private room</td>\n",
       "      <td>2</td>\n",
       "      <td>1146.0</td>\n",
       "      <td>32.0000</td>\n",
       "      <td>5.000000</td>\n",
       "    </tr>\n",
       "    <tr>\n",
       "      <th>4</th>\n",
       "      <td>273363</td>\n",
       "      <td>Santa Teresa</td>\n",
       "      <td>Private room</td>\n",
       "      <td>1</td>\n",
       "      <td>61.0</td>\n",
       "      <td>5.0000</td>\n",
       "      <td>5.000000</td>\n",
       "    </tr>\n",
       "    <tr>\n",
       "      <th>5</th>\n",
       "      <td>273463</td>\n",
       "      <td>Lagoa</td>\n",
       "      <td>Entire home/apt</td>\n",
       "      <td>6</td>\n",
       "      <td>1411.0</td>\n",
       "      <td>654.0000</td>\n",
       "      <td>4.830000</td>\n",
       "    </tr>\n",
       "    <tr>\n",
       "      <th>6</th>\n",
       "      <td>273496</td>\n",
       "      <td>Leblon</td>\n",
       "      <td>Entire home/apt</td>\n",
       "      <td>6</td>\n",
       "      <td>703.0</td>\n",
       "      <td>60.0000</td>\n",
       "      <td>4.800000</td>\n",
       "    </tr>\n",
       "    <tr>\n",
       "      <th>7</th>\n",
       "      <td>273753</td>\n",
       "      <td>Santa Teresa</td>\n",
       "      <td>Private room</td>\n",
       "      <td>1</td>\n",
       "      <td>59.0</td>\n",
       "      <td>4.0000</td>\n",
       "      <td>4.500000</td>\n",
       "    </tr>\n",
       "    <tr>\n",
       "      <th>8</th>\n",
       "      <td>274116</td>\n",
       "      <td>Santa Teresa</td>\n",
       "      <td>Entire home/apt</td>\n",
       "      <td>3</td>\n",
       "      <td>225.0</td>\n",
       "      <td>48.0000</td>\n",
       "      <td>4.920000</td>\n",
       "    </tr>\n",
       "  </tbody>\n",
       "</table>\n",
       "</div>"
      ],
      "text/plain": [
       "       id neighbourhood_cleansed        room_type  accommodates   price  \\\n",
       "0  271975                Vidigal  Entire home/apt             4   236.0   \n",
       "1  272335             Copacabana  Entire home/apt             4   723.0   \n",
       "2  272631             Copacabana     Private room             2  1146.0   \n",
       "4  273363           Santa Teresa     Private room             1    61.0   \n",
       "5  273463                  Lagoa  Entire home/apt             6  1411.0   \n",
       "6  273496                 Leblon  Entire home/apt             6   703.0   \n",
       "7  273753           Santa Teresa     Private room             1    59.0   \n",
       "8  274116           Santa Teresa  Entire home/apt             3   225.0   \n",
       "\n",
       "   number_of_reviews  review_scores_rating  \n",
       "0            24.1321              4.816146  \n",
       "1           367.0000              4.920000  \n",
       "2            32.0000              5.000000  \n",
       "4             5.0000              5.000000  \n",
       "5           654.0000              4.830000  \n",
       "6            60.0000              4.800000  \n",
       "7             4.0000              4.500000  \n",
       "8            48.0000              4.920000  "
      ]
     },
     "execution_count": 98,
     "metadata": {},
     "output_type": "execute_result"
    }
   ],
   "source": [
    "pricetrue.head(8)"
   ]
  },
  {
   "cell_type": "code",
   "execution_count": 99,
   "id": "f303d382",
   "metadata": {},
   "outputs": [
    {
     "data": {
      "text/plain": [
       "<Axes: >"
      ]
     },
     "execution_count": 99,
     "metadata": {},
     "output_type": "execute_result"
    },
    {
     "data": {
      "image/png": "[encoded data removed]",
      "text/plain": [
       "<Figure size 640x480 with 1 Axes>"
      ]
     },
     "metadata": {},
     "output_type": "display_data"
    }
   ],
   "source": [
    "#visualizando os dados sem outliers no boxplot\n",
    "pricetrue['price'].plot(kind=\"box\")"
   ]
  },
  {
   "cell_type": "markdown",
   "id": "9900038e",
   "metadata": {},
   "source": [
    "# Preparando dados para Machine Learning, com conversões de dados categóricos em dados numéricos.\n",
    "\n",
    "Observação: Na descrição da atividade, houve um erro na etapa 04, onde o enunciado da proposta é apenas uma parte da dica da etapa 01. Informei na plataforma e estou deduzindo que querem que seja feito a conversão de dados categoricos para numéricos, e é o que farei, mas qualquer coisa me perdoem os erros.\n",
    "\n"
   ]
  },
  {
   "cell_type": "markdown",
   "id": "5d5477d9",
   "metadata": {},
   "source": [
    "Algumas operações abaixo me deram problemas pois só permitem ser realizadas se meu slice se tornar um dataframe. Realizarei uma copia do meu dataframe sem outliers para poder injetar os comandos diretamente."
   ]
  },
  {
   "cell_type": "code",
   "execution_count": 100,
   "id": "cfedc9bc",
   "metadata": {},
   "outputs": [],
   "source": [
    "pricetrue = dfmain[\n",
    "    (dfmain['price'] >= linferior) & \n",
    "    (dfmain['price'] <= lsuperior)\n",
    "].copy()"
   ]
  },
  {
   "cell_type": "markdown",
   "id": "ca6c4d90",
   "metadata": {},
   "source": [
    "Observando pra ver se a quantidade de dados está correta com o dataframe sem outliers"
   ]
  },
  {
   "cell_type": "code",
   "execution_count": 101,
   "id": "a581b594",
   "metadata": {},
   "outputs": [
    {
     "data": {
      "text/plain": [
       "(36505, 7)"
      ]
     },
     "execution_count": 101,
     "metadata": {},
     "output_type": "execute_result"
    }
   ],
   "source": [
    "pricetrue.shape"
   ]
  },
  {
   "cell_type": "code",
   "execution_count": 102,
   "id": "36901213",
   "metadata": {},
   "outputs": [
    {
     "data": {
      "text/plain": [
       "id                         object\n",
       "neighbourhood_cleansed     object\n",
       "room_type                  object\n",
       "accommodates                int64\n",
       "price                     float64\n",
       "number_of_reviews         float64\n",
       "review_scores_rating      float64\n",
       "dtype: object"
      ]
     },
     "execution_count": 102,
     "metadata": {},
     "output_type": "execute_result"
    }
   ],
   "source": [
    "pricetrue.dtypes"
   ]
  },
  {
   "cell_type": "code",
   "execution_count": 103,
   "id": "ee791984",
   "metadata": {},
   "outputs": [
    {
     "data": {
      "text/html": [
       "<div>\n",
       "<style scoped>\n",
       "    .dataframe tbody tr th:only-of-type {\n",
       "        vertical-align: middle;\n",
       "    }\n",
       "\n",
       "    .dataframe tbody tr th {\n",
       "        vertical-align: top;\n",
       "    }\n",
       "\n",
       "    .dataframe thead th {\n",
       "        text-align: right;\n",
       "    }\n",
       "</style>\n",
       "<table border=\"1\" class=\"dataframe\">\n",
       "  <thead>\n",
       "    <tr style=\"text-align: right;\">\n",
       "      <th></th>\n",
       "      <th>id</th>\n",
       "      <th>neighbourhood_cleansed</th>\n",
       "      <th>room_type</th>\n",
       "      <th>accommodates</th>\n",
       "      <th>price</th>\n",
       "      <th>number_of_reviews</th>\n",
       "      <th>review_scores_rating</th>\n",
       "    </tr>\n",
       "  </thead>\n",
       "  <tbody>\n",
       "    <tr>\n",
       "      <th>0</th>\n",
       "      <td>271975</td>\n",
       "      <td>Vidigal</td>\n",
       "      <td>Entire home/apt</td>\n",
       "      <td>4</td>\n",
       "      <td>236.0</td>\n",
       "      <td>24.1321</td>\n",
       "      <td>4.816146</td>\n",
       "    </tr>\n",
       "    <tr>\n",
       "      <th>1</th>\n",
       "      <td>272335</td>\n",
       "      <td>Copacabana</td>\n",
       "      <td>Entire home/apt</td>\n",
       "      <td>4</td>\n",
       "      <td>723.0</td>\n",
       "      <td>367.0000</td>\n",
       "      <td>4.920000</td>\n",
       "    </tr>\n",
       "    <tr>\n",
       "      <th>2</th>\n",
       "      <td>272631</td>\n",
       "      <td>Copacabana</td>\n",
       "      <td>Private room</td>\n",
       "      <td>2</td>\n",
       "      <td>1146.0</td>\n",
       "      <td>32.0000</td>\n",
       "      <td>5.000000</td>\n",
       "    </tr>\n",
       "    <tr>\n",
       "      <th>4</th>\n",
       "      <td>273363</td>\n",
       "      <td>Santa Teresa</td>\n",
       "      <td>Private room</td>\n",
       "      <td>1</td>\n",
       "      <td>61.0</td>\n",
       "      <td>5.0000</td>\n",
       "      <td>5.000000</td>\n",
       "    </tr>\n",
       "    <tr>\n",
       "      <th>5</th>\n",
       "      <td>273463</td>\n",
       "      <td>Lagoa</td>\n",
       "      <td>Entire home/apt</td>\n",
       "      <td>6</td>\n",
       "      <td>1411.0</td>\n",
       "      <td>654.0000</td>\n",
       "      <td>4.830000</td>\n",
       "    </tr>\n",
       "  </tbody>\n",
       "</table>\n",
       "</div>"
      ],
      "text/plain": [
       "       id neighbourhood_cleansed        room_type  accommodates   price  \\\n",
       "0  271975                Vidigal  Entire home/apt             4   236.0   \n",
       "1  272335             Copacabana  Entire home/apt             4   723.0   \n",
       "2  272631             Copacabana     Private room             2  1146.0   \n",
       "4  273363           Santa Teresa     Private room             1    61.0   \n",
       "5  273463                  Lagoa  Entire home/apt             6  1411.0   \n",
       "\n",
       "   number_of_reviews  review_scores_rating  \n",
       "0            24.1321              4.816146  \n",
       "1           367.0000              4.920000  \n",
       "2            32.0000              5.000000  \n",
       "4             5.0000              5.000000  \n",
       "5           654.0000              4.830000  "
      ]
     },
     "execution_count": 103,
     "metadata": {},
     "output_type": "execute_result"
    }
   ],
   "source": [
    "pricetrue.head()"
   ]
  },
  {
   "cell_type": "markdown",
   "id": "605b07d1",
   "metadata": {},
   "source": [
    "Convertendo a variavel para categoricas e criando ao mesmo tempo as novas colunas com os valores numéricos"
   ]
  },
  {
   "cell_type": "code",
   "execution_count": 104,
   "id": "dc5a926f",
   "metadata": {},
   "outputs": [],
   "source": [
    "pricetrue['room_type_code'] = pricetrue['room_type'].astype('category').cat.codes"
   ]
  },
  {
   "cell_type": "code",
   "execution_count": 105,
   "id": "4c017a23",
   "metadata": {},
   "outputs": [
    {
     "data": {
      "text/html": [
       "<div>\n",
       "<style scoped>\n",
       "    .dataframe tbody tr th:only-of-type {\n",
       "        vertical-align: middle;\n",
       "    }\n",
       "\n",
       "    .dataframe tbody tr th {\n",
       "        vertical-align: top;\n",
       "    }\n",
       "\n",
       "    .dataframe thead th {\n",
       "        text-align: right;\n",
       "    }\n",
       "</style>\n",
       "<table border=\"1\" class=\"dataframe\">\n",
       "  <thead>\n",
       "    <tr style=\"text-align: right;\">\n",
       "      <th></th>\n",
       "      <th>id</th>\n",
       "      <th>neighbourhood_cleansed</th>\n",
       "      <th>room_type</th>\n",
       "      <th>accommodates</th>\n",
       "      <th>price</th>\n",
       "      <th>number_of_reviews</th>\n",
       "      <th>review_scores_rating</th>\n",
       "      <th>room_type_code</th>\n",
       "    </tr>\n",
       "  </thead>\n",
       "  <tbody>\n",
       "    <tr>\n",
       "      <th>0</th>\n",
       "      <td>271975</td>\n",
       "      <td>Vidigal</td>\n",
       "      <td>Entire home/apt</td>\n",
       "      <td>4</td>\n",
       "      <td>236.0</td>\n",
       "      <td>24.1321</td>\n",
       "      <td>4.816146</td>\n",
       "      <td>0</td>\n",
       "    </tr>\n",
       "    <tr>\n",
       "      <th>1</th>\n",
       "      <td>272335</td>\n",
       "      <td>Copacabana</td>\n",
       "      <td>Entire home/apt</td>\n",
       "      <td>4</td>\n",
       "      <td>723.0</td>\n",
       "      <td>367.0000</td>\n",
       "      <td>4.920000</td>\n",
       "      <td>0</td>\n",
       "    </tr>\n",
       "    <tr>\n",
       "      <th>2</th>\n",
       "      <td>272631</td>\n",
       "      <td>Copacabana</td>\n",
       "      <td>Private room</td>\n",
       "      <td>2</td>\n",
       "      <td>1146.0</td>\n",
       "      <td>32.0000</td>\n",
       "      <td>5.000000</td>\n",
       "      <td>2</td>\n",
       "    </tr>\n",
       "    <tr>\n",
       "      <th>4</th>\n",
       "      <td>273363</td>\n",
       "      <td>Santa Teresa</td>\n",
       "      <td>Private room</td>\n",
       "      <td>1</td>\n",
       "      <td>61.0</td>\n",
       "      <td>5.0000</td>\n",
       "      <td>5.000000</td>\n",
       "      <td>2</td>\n",
       "    </tr>\n",
       "    <tr>\n",
       "      <th>5</th>\n",
       "      <td>273463</td>\n",
       "      <td>Lagoa</td>\n",
       "      <td>Entire home/apt</td>\n",
       "      <td>6</td>\n",
       "      <td>1411.0</td>\n",
       "      <td>654.0000</td>\n",
       "      <td>4.830000</td>\n",
       "      <td>0</td>\n",
       "    </tr>\n",
       "    <tr>\n",
       "      <th>6</th>\n",
       "      <td>273496</td>\n",
       "      <td>Leblon</td>\n",
       "      <td>Entire home/apt</td>\n",
       "      <td>6</td>\n",
       "      <td>703.0</td>\n",
       "      <td>60.0000</td>\n",
       "      <td>4.800000</td>\n",
       "      <td>0</td>\n",
       "    </tr>\n",
       "    <tr>\n",
       "      <th>7</th>\n",
       "      <td>273753</td>\n",
       "      <td>Santa Teresa</td>\n",
       "      <td>Private room</td>\n",
       "      <td>1</td>\n",
       "      <td>59.0</td>\n",
       "      <td>4.0000</td>\n",
       "      <td>4.500000</td>\n",
       "      <td>2</td>\n",
       "    </tr>\n",
       "    <tr>\n",
       "      <th>8</th>\n",
       "      <td>274116</td>\n",
       "      <td>Santa Teresa</td>\n",
       "      <td>Entire home/apt</td>\n",
       "      <td>3</td>\n",
       "      <td>225.0</td>\n",
       "      <td>48.0000</td>\n",
       "      <td>4.920000</td>\n",
       "      <td>0</td>\n",
       "    </tr>\n",
       "  </tbody>\n",
       "</table>\n",
       "</div>"
      ],
      "text/plain": [
       "       id neighbourhood_cleansed        room_type  accommodates   price  \\\n",
       "0  271975                Vidigal  Entire home/apt             4   236.0   \n",
       "1  272335             Copacabana  Entire home/apt             4   723.0   \n",
       "2  272631             Copacabana     Private room             2  1146.0   \n",
       "4  273363           Santa Teresa     Private room             1    61.0   \n",
       "5  273463                  Lagoa  Entire home/apt             6  1411.0   \n",
       "6  273496                 Leblon  Entire home/apt             6   703.0   \n",
       "7  273753           Santa Teresa     Private room             1    59.0   \n",
       "8  274116           Santa Teresa  Entire home/apt             3   225.0   \n",
       "\n",
       "   number_of_reviews  review_scores_rating  room_type_code  \n",
       "0            24.1321              4.816146               0  \n",
       "1           367.0000              4.920000               0  \n",
       "2            32.0000              5.000000               2  \n",
       "4             5.0000              5.000000               2  \n",
       "5           654.0000              4.830000               0  \n",
       "6            60.0000              4.800000               0  \n",
       "7             4.0000              4.500000               2  \n",
       "8            48.0000              4.920000               0  "
      ]
     },
     "execution_count": 105,
     "metadata": {},
     "output_type": "execute_result"
    }
   ],
   "source": [
    "pricetrue.head(8)"
   ]
  },
  {
   "cell_type": "markdown",
   "id": "58dfb2a8",
   "metadata": {},
   "source": [
    "Eliminando a coluna original"
   ]
  },
  {
   "cell_type": "code",
   "execution_count": null,
   "id": "be59c77f",
   "metadata": {},
   "outputs": [],
   "source": [
    "\n",
    "pricetrue = pricetrue.drop('room_type', axis=1)"
   ]
  },
  {
   "cell_type": "code",
   "execution_count": 107,
   "id": "1856422d",
   "metadata": {},
   "outputs": [
    {
     "data": {
      "text/html": [
       "<div>\n",
       "<style scoped>\n",
       "    .dataframe tbody tr th:only-of-type {\n",
       "        vertical-align: middle;\n",
       "    }\n",
       "\n",
       "    .dataframe tbody tr th {\n",
       "        vertical-align: top;\n",
       "    }\n",
       "\n",
       "    .dataframe thead th {\n",
       "        text-align: right;\n",
       "    }\n",
       "</style>\n",
       "<table border=\"1\" class=\"dataframe\">\n",
       "  <thead>\n",
       "    <tr style=\"text-align: right;\">\n",
       "      <th></th>\n",
       "      <th>id</th>\n",
       "      <th>neighbourhood_cleansed</th>\n",
       "      <th>accommodates</th>\n",
       "      <th>price</th>\n",
       "      <th>number_of_reviews</th>\n",
       "      <th>review_scores_rating</th>\n",
       "      <th>room_type_code</th>\n",
       "    </tr>\n",
       "  </thead>\n",
       "  <tbody>\n",
       "    <tr>\n",
       "      <th>0</th>\n",
       "      <td>271975</td>\n",
       "      <td>Vidigal</td>\n",
       "      <td>4</td>\n",
       "      <td>236.0</td>\n",
       "      <td>24.1321</td>\n",
       "      <td>4.816146</td>\n",
       "      <td>0</td>\n",
       "    </tr>\n",
       "    <tr>\n",
       "      <th>1</th>\n",
       "      <td>272335</td>\n",
       "      <td>Copacabana</td>\n",
       "      <td>4</td>\n",
       "      <td>723.0</td>\n",
       "      <td>367.0000</td>\n",
       "      <td>4.920000</td>\n",
       "      <td>0</td>\n",
       "    </tr>\n",
       "    <tr>\n",
       "      <th>2</th>\n",
       "      <td>272631</td>\n",
       "      <td>Copacabana</td>\n",
       "      <td>2</td>\n",
       "      <td>1146.0</td>\n",
       "      <td>32.0000</td>\n",
       "      <td>5.000000</td>\n",
       "      <td>2</td>\n",
       "    </tr>\n",
       "    <tr>\n",
       "      <th>4</th>\n",
       "      <td>273363</td>\n",
       "      <td>Santa Teresa</td>\n",
       "      <td>1</td>\n",
       "      <td>61.0</td>\n",
       "      <td>5.0000</td>\n",
       "      <td>5.000000</td>\n",
       "      <td>2</td>\n",
       "    </tr>\n",
       "    <tr>\n",
       "      <th>5</th>\n",
       "      <td>273463</td>\n",
       "      <td>Lagoa</td>\n",
       "      <td>6</td>\n",
       "      <td>1411.0</td>\n",
       "      <td>654.0000</td>\n",
       "      <td>4.830000</td>\n",
       "      <td>0</td>\n",
       "    </tr>\n",
       "  </tbody>\n",
       "</table>\n",
       "</div>"
      ],
      "text/plain": [
       "       id neighbourhood_cleansed  accommodates   price  number_of_reviews  \\\n",
       "0  271975                Vidigal             4   236.0            24.1321   \n",
       "1  272335             Copacabana             4   723.0           367.0000   \n",
       "2  272631             Copacabana             2  1146.0            32.0000   \n",
       "4  273363           Santa Teresa             1    61.0             5.0000   \n",
       "5  273463                  Lagoa             6  1411.0           654.0000   \n",
       "\n",
       "   review_scores_rating  room_type_code  \n",
       "0              4.816146               0  \n",
       "1              4.920000               0  \n",
       "2              5.000000               2  \n",
       "4              5.000000               2  \n",
       "5              4.830000               0  "
      ]
     },
     "execution_count": 107,
     "metadata": {},
     "output_type": "execute_result"
    }
   ],
   "source": [
    "pricetrue.head()"
   ]
  },
  {
   "cell_type": "markdown",
   "id": "11efe49a",
   "metadata": {},
   "source": [
    "Mesmo procedimento para a coluna neighbourhood_cleansed"
   ]
  },
  {
   "cell_type": "code",
   "execution_count": 108,
   "id": "cc40ded6",
   "metadata": {},
   "outputs": [],
   "source": [
    "pricetrue['neighbhood_clean_code'] = pricetrue['neighbourhood_cleansed'].astype('category').cat.codes"
   ]
  },
  {
   "cell_type": "code",
   "execution_count": 109,
   "id": "427348cc",
   "metadata": {},
   "outputs": [],
   "source": [
    "pricetrue = pricetrue.drop('neighbourhood_cleansed', axis=1)"
   ]
  },
  {
   "cell_type": "markdown",
   "id": "5133e173",
   "metadata": {},
   "source": [
    "#ETAPA 05 - VERIFICANDO DADOS"
   ]
  },
  {
   "cell_type": "code",
   "execution_count": 110,
   "id": "f12d5db5",
   "metadata": {},
   "outputs": [
    {
     "data": {
      "text/html": [
       "<div>\n",
       "<style scoped>\n",
       "    .dataframe tbody tr th:only-of-type {\n",
       "        vertical-align: middle;\n",
       "    }\n",
       "\n",
       "    .dataframe tbody tr th {\n",
       "        vertical-align: top;\n",
       "    }\n",
       "\n",
       "    .dataframe thead th {\n",
       "        text-align: right;\n",
       "    }\n",
       "</style>\n",
       "<table border=\"1\" class=\"dataframe\">\n",
       "  <thead>\n",
       "    <tr style=\"text-align: right;\">\n",
       "      <th></th>\n",
       "      <th>id</th>\n",
       "      <th>accommodates</th>\n",
       "      <th>price</th>\n",
       "      <th>number_of_reviews</th>\n",
       "      <th>review_scores_rating</th>\n",
       "      <th>room_type_code</th>\n",
       "      <th>neighbhood_clean_code</th>\n",
       "    </tr>\n",
       "  </thead>\n",
       "  <tbody>\n",
       "    <tr>\n",
       "      <th>0</th>\n",
       "      <td>271975</td>\n",
       "      <td>4</td>\n",
       "      <td>236.0</td>\n",
       "      <td>24.1321</td>\n",
       "      <td>4.816146</td>\n",
       "      <td>0</td>\n",
       "      <td>144</td>\n",
       "    </tr>\n",
       "    <tr>\n",
       "      <th>1</th>\n",
       "      <td>272335</td>\n",
       "      <td>4</td>\n",
       "      <td>723.0</td>\n",
       "      <td>367.0000</td>\n",
       "      <td>4.920000</td>\n",
       "      <td>0</td>\n",
       "      <td>32</td>\n",
       "    </tr>\n",
       "    <tr>\n",
       "      <th>2</th>\n",
       "      <td>272631</td>\n",
       "      <td>2</td>\n",
       "      <td>1146.0</td>\n",
       "      <td>32.0000</td>\n",
       "      <td>5.000000</td>\n",
       "      <td>2</td>\n",
       "      <td>32</td>\n",
       "    </tr>\n",
       "    <tr>\n",
       "      <th>4</th>\n",
       "      <td>273363</td>\n",
       "      <td>1</td>\n",
       "      <td>61.0</td>\n",
       "      <td>5.0000</td>\n",
       "      <td>5.000000</td>\n",
       "      <td>2</td>\n",
       "      <td>121</td>\n",
       "    </tr>\n",
       "    <tr>\n",
       "      <th>5</th>\n",
       "      <td>273463</td>\n",
       "      <td>6</td>\n",
       "      <td>1411.0</td>\n",
       "      <td>654.0000</td>\n",
       "      <td>4.830000</td>\n",
       "      <td>0</td>\n",
       "      <td>75</td>\n",
       "    </tr>\n",
       "  </tbody>\n",
       "</table>\n",
       "</div>"
      ],
      "text/plain": [
       "       id  accommodates   price  number_of_reviews  review_scores_rating  \\\n",
       "0  271975             4   236.0            24.1321              4.816146   \n",
       "1  272335             4   723.0           367.0000              4.920000   \n",
       "2  272631             2  1146.0            32.0000              5.000000   \n",
       "4  273363             1    61.0             5.0000              5.000000   \n",
       "5  273463             6  1411.0           654.0000              4.830000   \n",
       "\n",
       "   room_type_code  neighbhood_clean_code  \n",
       "0               0                    144  \n",
       "1               0                     32  \n",
       "2               2                     32  \n",
       "4               2                    121  \n",
       "5               0                     75  "
      ]
     },
     "execution_count": 110,
     "metadata": {},
     "output_type": "execute_result"
    }
   ],
   "source": [
    "pricetrue.head()"
   ]
  },
  {
   "cell_type": "code",
   "execution_count": 111,
   "id": "2c548159",
   "metadata": {},
   "outputs": [
    {
     "name": "stdout",
     "output_type": "stream",
     "text": [
      "<class 'pandas.core.frame.DataFrame'>\n",
      "Index: 36505 entries, 0 to 39498\n",
      "Data columns (total 7 columns):\n",
      " #   Column                 Non-Null Count  Dtype  \n",
      "---  ------                 --------------  -----  \n",
      " 0   id                     36505 non-null  object \n",
      " 1   accommodates           36505 non-null  int64  \n",
      " 2   price                  36505 non-null  float64\n",
      " 3   number_of_reviews      36505 non-null  float64\n",
      " 4   review_scores_rating   36505 non-null  float64\n",
      " 5   room_type_code         36505 non-null  int8   \n",
      " 6   neighbhood_clean_code  36505 non-null  int16  \n",
      "dtypes: float64(3), int16(1), int64(1), int8(1), object(1)\n",
      "memory usage: 1.8+ MB\n"
     ]
    }
   ],
   "source": [
    "pricetrue.info()"
   ]
  },
  {
   "cell_type": "code",
   "execution_count": 112,
   "id": "58589413",
   "metadata": {},
   "outputs": [
    {
     "data": {
      "text/html": [
       "<div>\n",
       "<style scoped>\n",
       "    .dataframe tbody tr th:only-of-type {\n",
       "        vertical-align: middle;\n",
       "    }\n",
       "\n",
       "    .dataframe tbody tr th {\n",
       "        vertical-align: top;\n",
       "    }\n",
       "\n",
       "    .dataframe thead th {\n",
       "        text-align: right;\n",
       "    }\n",
       "</style>\n",
       "<table border=\"1\" class=\"dataframe\">\n",
       "  <thead>\n",
       "    <tr style=\"text-align: right;\">\n",
       "      <th></th>\n",
       "      <th>accommodates</th>\n",
       "      <th>price</th>\n",
       "      <th>number_of_reviews</th>\n",
       "      <th>review_scores_rating</th>\n",
       "      <th>room_type_code</th>\n",
       "      <th>neighbhood_clean_code</th>\n",
       "    </tr>\n",
       "  </thead>\n",
       "  <tbody>\n",
       "    <tr>\n",
       "      <th>count</th>\n",
       "      <td>36505.000000</td>\n",
       "      <td>36505.000000</td>\n",
       "      <td>36505.000000</td>\n",
       "      <td>36505.000000</td>\n",
       "      <td>36505.000000</td>\n",
       "      <td>36505.000000</td>\n",
       "    </tr>\n",
       "    <tr>\n",
       "      <th>mean</th>\n",
       "      <td>3.746692</td>\n",
       "      <td>815.409245</td>\n",
       "      <td>24.064355</td>\n",
       "      <td>3.766056</td>\n",
       "      <td>0.426544</td>\n",
       "      <td>51.855527</td>\n",
       "    </tr>\n",
       "    <tr>\n",
       "      <th>std</th>\n",
       "      <td>1.962116</td>\n",
       "      <td>506.732227</td>\n",
       "      <td>43.719568</td>\n",
       "      <td>2.009395</td>\n",
       "      <td>0.831742</td>\n",
       "      <td>36.855453</td>\n",
       "    </tr>\n",
       "    <tr>\n",
       "      <th>min</th>\n",
       "      <td>1.000000</td>\n",
       "      <td>33.000000</td>\n",
       "      <td>0.000000</td>\n",
       "      <td>0.000000</td>\n",
       "      <td>0.000000</td>\n",
       "      <td>0.000000</td>\n",
       "    </tr>\n",
       "    <tr>\n",
       "      <th>25%</th>\n",
       "      <td>2.000000</td>\n",
       "      <td>400.000000</td>\n",
       "      <td>1.000000</td>\n",
       "      <td>4.290000</td>\n",
       "      <td>0.000000</td>\n",
       "      <td>32.000000</td>\n",
       "    </tr>\n",
       "    <tr>\n",
       "      <th>50%</th>\n",
       "      <td>4.000000</td>\n",
       "      <td>723.000000</td>\n",
       "      <td>9.000000</td>\n",
       "      <td>4.816146</td>\n",
       "      <td>0.000000</td>\n",
       "      <td>32.000000</td>\n",
       "    </tr>\n",
       "    <tr>\n",
       "      <th>75%</th>\n",
       "      <td>4.000000</td>\n",
       "      <td>1200.000000</td>\n",
       "      <td>24.132100</td>\n",
       "      <td>5.000000</td>\n",
       "      <td>0.000000</td>\n",
       "      <td>74.000000</td>\n",
       "    </tr>\n",
       "    <tr>\n",
       "      <th>max</th>\n",
       "      <td>16.000000</td>\n",
       "      <td>2418.000000</td>\n",
       "      <td>710.000000</td>\n",
       "      <td>5.000000</td>\n",
       "      <td>3.000000</td>\n",
       "      <td>152.000000</td>\n",
       "    </tr>\n",
       "  </tbody>\n",
       "</table>\n",
       "</div>"
      ],
      "text/plain": [
       "       accommodates         price  number_of_reviews  review_scores_rating  \\\n",
       "count  36505.000000  36505.000000       36505.000000          36505.000000   \n",
       "mean       3.746692    815.409245          24.064355              3.766056   \n",
       "std        1.962116    506.732227          43.719568              2.009395   \n",
       "min        1.000000     33.000000           0.000000              0.000000   \n",
       "25%        2.000000    400.000000           1.000000              4.290000   \n",
       "50%        4.000000    723.000000           9.000000              4.816146   \n",
       "75%        4.000000   1200.000000          24.132100              5.000000   \n",
       "max       16.000000   2418.000000         710.000000              5.000000   \n",
       "\n",
       "       room_type_code  neighbhood_clean_code  \n",
       "count    36505.000000           36505.000000  \n",
       "mean         0.426544              51.855527  \n",
       "std          0.831742              36.855453  \n",
       "min          0.000000               0.000000  \n",
       "25%          0.000000              32.000000  \n",
       "50%          0.000000              32.000000  \n",
       "75%          0.000000              74.000000  \n",
       "max          3.000000             152.000000  "
      ]
     },
     "execution_count": 112,
     "metadata": {},
     "output_type": "execute_result"
    }
   ],
   "source": [
    "pricetrue.describe()"
   ]
  },
  {
   "cell_type": "code",
   "execution_count": null,
   "id": "1be09316",
   "metadata": {},
   "outputs": [],
   "source": []
  }
 ],
 "metadata": {
  "kernelspec": {
   "display_name": "Python 3",
   "language": "python",
   "name": "python3"
  },
  "language_info": {
   "codemirror_mode": {
    "name": "ipython",
    "version": 3
   },
   "file_extension": ".py",
   "mimetype": "text/x-python",
   "name": "python",
   "nbconvert_exporter": "python",
   "pygments_lexer": "ipython3",
   "version": "3.13.1"
  }
 },
 "nbformat": 4,
 "nbformat_minor": 5
}
