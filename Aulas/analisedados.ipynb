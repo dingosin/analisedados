{
 "cells": [
  {
   "cell_type": "markdown",
   "id": "994d7a64",
   "metadata": {},
   "source": [
    "# 1. CARREGANDO ARQUIVOS\n",
    "Importando bibliotecas "
   ]
  },
  {
   "cell_type": "code",
   "execution_count": 21,
   "id": "ca4117d3",
   "metadata": {},
   "outputs": [],
   "source": [
    "import pandas as pd\n",
    "import numpy as np\n",
    "import matplotlib.pyplot as plt"
   ]
  },
  {
   "cell_type": "markdown",
   "id": "938ca5e7",
   "metadata": {},
   "source": [
    "Importando arquivos"
   ]
  },
  {
   "cell_type": "code",
   "execution_count": 22,
   "id": "decbf3f2",
   "metadata": {},
   "outputs": [],
   "source": [
    "df1= pd.read_csv(\"./listings_cleaned.csv\", sep=\",\", header=0)"
   ]
  },
  {
   "cell_type": "code",
   "execution_count": 23,
   "id": "ddb41bc9",
   "metadata": {},
   "outputs": [],
   "source": [
    "df2= pd.read_csv(\"./reviews.csv\", sep=\",\", header=0)"
   ]
  },
  {
   "cell_type": "markdown",
   "id": "a6a95c5a",
   "metadata": {},
   "source": [
    "# 2. EXPLORANDO O DATAFRAME\n",
    "\n",
    "Verificando as informações para o merge."
   ]
  },
  {
   "cell_type": "code",
   "execution_count": 43,
   "id": "8254fb73",
   "metadata": {},
   "outputs": [
    {
     "data": {
      "text/html": [
       "<div>\n",
       "<style scoped>\n",
       "    .dataframe tbody tr th:only-of-type {\n",
       "        vertical-align: middle;\n",
       "    }\n",
       "\n",
       "    .dataframe tbody tr th {\n",
       "        vertical-align: top;\n",
       "    }\n",
       "\n",
       "    .dataframe thead th {\n",
       "        text-align: right;\n",
       "    }\n",
       "</style>\n",
       "<table border=\"1\" class=\"dataframe\">\n",
       "  <thead>\n",
       "    <tr style=\"text-align: right;\">\n",
       "      <th></th>\n",
       "      <th>id</th>\n",
       "      <th>neighbourhood_cleansed</th>\n",
       "      <th>room_type</th>\n",
       "      <th>accommodates</th>\n",
       "      <th>price</th>\n",
       "    </tr>\n",
       "  </thead>\n",
       "  <tbody>\n",
       "    <tr>\n",
       "      <th>0</th>\n",
       "      <td>271975</td>\n",
       "      <td>Vidigal</td>\n",
       "      <td>Entire home/apt</td>\n",
       "      <td>4</td>\n",
       "      <td>236.0</td>\n",
       "    </tr>\n",
       "    <tr>\n",
       "      <th>1</th>\n",
       "      <td>272335</td>\n",
       "      <td>Copacabana</td>\n",
       "      <td>Entire home/apt</td>\n",
       "      <td>4</td>\n",
       "      <td>723.0</td>\n",
       "    </tr>\n",
       "    <tr>\n",
       "      <th>2</th>\n",
       "      <td>272631</td>\n",
       "      <td>Copacabana</td>\n",
       "      <td>Private room</td>\n",
       "      <td>2</td>\n",
       "      <td>1146.0</td>\n",
       "    </tr>\n",
       "    <tr>\n",
       "      <th>3</th>\n",
       "      <td>273261</td>\n",
       "      <td>Leblon</td>\n",
       "      <td>Entire home/apt</td>\n",
       "      <td>6</td>\n",
       "      <td>6742.0</td>\n",
       "    </tr>\n",
       "    <tr>\n",
       "      <th>4</th>\n",
       "      <td>273363</td>\n",
       "      <td>Santa Teresa</td>\n",
       "      <td>Private room</td>\n",
       "      <td>1</td>\n",
       "      <td>61.0</td>\n",
       "    </tr>\n",
       "    <tr>\n",
       "      <th>...</th>\n",
       "      <td>...</td>\n",
       "      <td>...</td>\n",
       "      <td>...</td>\n",
       "      <td>...</td>\n",
       "      <td>...</td>\n",
       "    </tr>\n",
       "    <tr>\n",
       "      <th>39494</th>\n",
       "      <td>1319593870376466401</td>\n",
       "      <td>Copacabana</td>\n",
       "      <td>Entire home/apt</td>\n",
       "      <td>4</td>\n",
       "      <td>957.0</td>\n",
       "    </tr>\n",
       "    <tr>\n",
       "      <th>39495</th>\n",
       "      <td>1319611826461021550</td>\n",
       "      <td>Jacarezinho</td>\n",
       "      <td>Entire home/apt</td>\n",
       "      <td>8</td>\n",
       "      <td>288.0</td>\n",
       "    </tr>\n",
       "    <tr>\n",
       "      <th>39496</th>\n",
       "      <td>1319620401959854025</td>\n",
       "      <td>Copacabana</td>\n",
       "      <td>Entire home/apt</td>\n",
       "      <td>6</td>\n",
       "      <td>672.0</td>\n",
       "    </tr>\n",
       "    <tr>\n",
       "      <th>39497</th>\n",
       "      <td>1319650312466603776</td>\n",
       "      <td>Ipanema</td>\n",
       "      <td>Entire home/apt</td>\n",
       "      <td>6</td>\n",
       "      <td>1083.0</td>\n",
       "    </tr>\n",
       "    <tr>\n",
       "      <th>39498</th>\n",
       "      <td>1319654458578424849</td>\n",
       "      <td>Copacabana</td>\n",
       "      <td>Entire home/apt</td>\n",
       "      <td>4</td>\n",
       "      <td>1296.0</td>\n",
       "    </tr>\n",
       "  </tbody>\n",
       "</table>\n",
       "<p>39499 rows × 5 columns</p>\n",
       "</div>"
      ],
      "text/plain": [
       "                        id neighbourhood_cleansed        room_type  \\\n",
       "0                   271975                Vidigal  Entire home/apt   \n",
       "1                   272335             Copacabana  Entire home/apt   \n",
       "2                   272631             Copacabana     Private room   \n",
       "3                   273261                 Leblon  Entire home/apt   \n",
       "4                   273363           Santa Teresa     Private room   \n",
       "...                    ...                    ...              ...   \n",
       "39494  1319593870376466401             Copacabana  Entire home/apt   \n",
       "39495  1319611826461021550            Jacarezinho  Entire home/apt   \n",
       "39496  1319620401959854025             Copacabana  Entire home/apt   \n",
       "39497  1319650312466603776                Ipanema  Entire home/apt   \n",
       "39498  1319654458578424849             Copacabana  Entire home/apt   \n",
       "\n",
       "       accommodates   price  \n",
       "0                 4   236.0  \n",
       "1                 4   723.0  \n",
       "2                 2  1146.0  \n",
       "3                 6  6742.0  \n",
       "4                 1    61.0  \n",
       "...             ...     ...  \n",
       "39494             4   957.0  \n",
       "39495             8   288.0  \n",
       "39496             6   672.0  \n",
       "39497             6  1083.0  \n",
       "39498             4  1296.0  \n",
       "\n",
       "[39499 rows x 5 columns]"
      ]
     },
     "execution_count": 43,
     "metadata": {},
     "output_type": "execute_result"
    }
   ],
   "source": [
    "df1"
   ]
  },
  {
   "cell_type": "code",
   "execution_count": 44,
   "id": "50da891b",
   "metadata": {},
   "outputs": [
    {
     "data": {
      "text/html": [
       "<div>\n",
       "<style scoped>\n",
       "    .dataframe tbody tr th:only-of-type {\n",
       "        vertical-align: middle;\n",
       "    }\n",
       "\n",
       "    .dataframe tbody tr th {\n",
       "        vertical-align: top;\n",
       "    }\n",
       "\n",
       "    .dataframe thead th {\n",
       "        text-align: right;\n",
       "    }\n",
       "</style>\n",
       "<table border=\"1\" class=\"dataframe\">\n",
       "  <thead>\n",
       "    <tr style=\"text-align: right;\">\n",
       "      <th></th>\n",
       "      <th>id</th>\n",
       "      <th>number_of_reviews</th>\n",
       "      <th>review_scores_rating</th>\n",
       "    </tr>\n",
       "  </thead>\n",
       "  <tbody>\n",
       "    <tr>\n",
       "      <th>0</th>\n",
       "      <td>272335</td>\n",
       "      <td>367</td>\n",
       "      <td>4.920000</td>\n",
       "    </tr>\n",
       "    <tr>\n",
       "      <th>1</th>\n",
       "      <td>272631</td>\n",
       "      <td>32</td>\n",
       "      <td>5.000000</td>\n",
       "    </tr>\n",
       "    <tr>\n",
       "      <th>2</th>\n",
       "      <td>273363</td>\n",
       "      <td>5</td>\n",
       "      <td>5.000000</td>\n",
       "    </tr>\n",
       "    <tr>\n",
       "      <th>3</th>\n",
       "      <td>273463</td>\n",
       "      <td>654</td>\n",
       "      <td>4.830000</td>\n",
       "    </tr>\n",
       "    <tr>\n",
       "      <th>4</th>\n",
       "      <td>273496</td>\n",
       "      <td>60</td>\n",
       "      <td>4.800000</td>\n",
       "    </tr>\n",
       "    <tr>\n",
       "      <th>...</th>\n",
       "      <td>...</td>\n",
       "      <td>...</td>\n",
       "      <td>...</td>\n",
       "    </tr>\n",
       "    <tr>\n",
       "      <th>32690</th>\n",
       "      <td>842292</td>\n",
       "      <td>68</td>\n",
       "      <td>4.760000</td>\n",
       "    </tr>\n",
       "    <tr>\n",
       "      <th>32691</th>\n",
       "      <td>730997</td>\n",
       "      <td>119</td>\n",
       "      <td>4.760000</td>\n",
       "    </tr>\n",
       "    <tr>\n",
       "      <th>32692</th>\n",
       "      <td>857217</td>\n",
       "      <td>0</td>\n",
       "      <td>4.812309</td>\n",
       "    </tr>\n",
       "    <tr>\n",
       "      <th>32693</th>\n",
       "      <td>749237</td>\n",
       "      <td>53</td>\n",
       "      <td>4.810000</td>\n",
       "    </tr>\n",
       "    <tr>\n",
       "      <th>32694</th>\n",
       "      <td>25533793</td>\n",
       "      <td>96</td>\n",
       "      <td>4.790000</td>\n",
       "    </tr>\n",
       "  </tbody>\n",
       "</table>\n",
       "<p>32695 rows × 3 columns</p>\n",
       "</div>"
      ],
      "text/plain": [
       "             id  number_of_reviews  review_scores_rating\n",
       "0        272335                367              4.920000\n",
       "1        272631                 32              5.000000\n",
       "2        273363                  5              5.000000\n",
       "3        273463                654              4.830000\n",
       "4        273496                 60              4.800000\n",
       "...         ...                ...                   ...\n",
       "32690    842292                 68              4.760000\n",
       "32691    730997                119              4.760000\n",
       "32692    857217                  0              4.812309\n",
       "32693    749237                 53              4.810000\n",
       "32694  25533793                 96              4.790000\n",
       "\n",
       "[32695 rows x 3 columns]"
      ]
     },
     "execution_count": 44,
     "metadata": {},
     "output_type": "execute_result"
    }
   ],
   "source": [
    "df2"
   ]
  },
  {
   "cell_type": "code",
   "execution_count": 45,
   "id": "b253d35e",
   "metadata": {},
   "outputs": [
    {
     "data": {
      "text/plain": [
       "(39499, 5)"
      ]
     },
     "execution_count": 45,
     "metadata": {},
     "output_type": "execute_result"
    }
   ],
   "source": [
    "df1.shape"
   ]
  },
  {
   "cell_type": "code",
   "execution_count": 46,
   "id": "02835a6d",
   "metadata": {},
   "outputs": [
    {
     "data": {
      "text/plain": [
       "(32695, 3)"
      ]
     },
     "execution_count": 46,
     "metadata": {},
     "output_type": "execute_result"
    }
   ],
   "source": [
    "df2.shape"
   ]
  },
  {
   "cell_type": "code",
   "execution_count": 47,
   "id": "d6bab6f3",
   "metadata": {},
   "outputs": [
    {
     "data": {
      "text/plain": [
       "id                           0\n",
       "neighbourhood_cleansed       0\n",
       "room_type                    0\n",
       "accommodates                 0\n",
       "price                     2855\n",
       "dtype: int64"
      ]
     },
     "execution_count": 47,
     "metadata": {},
     "output_type": "execute_result"
    }
   ],
   "source": [
    "df1.isnull().sum()"
   ]
  },
  {
   "cell_type": "code",
   "execution_count": 48,
   "id": "2d007393",
   "metadata": {},
   "outputs": [
    {
     "ename": "KeyError",
     "evalue": "\"['bathrooms', 'bedrooms', 'beds'] not found in axis\"",
     "output_type": "error",
     "traceback": [
      "\u001b[31m---------------------------------------------------------------------------\u001b[39m",
      "\u001b[31mKeyError\u001b[39m                                  Traceback (most recent call last)",
      "\u001b[36mCell\u001b[39m\u001b[36m \u001b[39m\u001b[32mIn[48]\u001b[39m\u001b[32m, line 1\u001b[39m\n\u001b[32m----> \u001b[39m\u001b[32m1\u001b[39m \u001b[43mdf1\u001b[49m\u001b[43m.\u001b[49m\u001b[43mdrop\u001b[49m\u001b[43m(\u001b[49m\u001b[43m[\u001b[49m\u001b[33;43m'\u001b[39;49m\u001b[33;43mbathrooms\u001b[39;49m\u001b[33;43m'\u001b[39;49m\u001b[43m,\u001b[49m\u001b[43m \u001b[49m\u001b[33;43m'\u001b[39;49m\u001b[33;43mbedrooms\u001b[39;49m\u001b[33;43m'\u001b[39;49m\u001b[43m,\u001b[49m\u001b[43m \u001b[49m\u001b[33;43m'\u001b[39;49m\u001b[33;43mbeds\u001b[39;49m\u001b[33;43m'\u001b[39;49m\u001b[43m]\u001b[49m\u001b[43m,\u001b[49m\u001b[43m \u001b[49m\u001b[43maxis\u001b[49m\u001b[43m=\u001b[49m\u001b[32;43m1\u001b[39;49m\u001b[43m,\u001b[49m\u001b[43m \u001b[49m\u001b[43minplace\u001b[49m\u001b[43m=\u001b[49m\u001b[38;5;28;43;01mTrue\u001b[39;49;00m\u001b[43m)\u001b[49m\n",
      "\u001b[36mFile \u001b[39m\u001b[32mc:\\Users\\Administrador\\Python\\Lib\\site-packages\\pandas\\core\\frame.py:5581\u001b[39m, in \u001b[36mDataFrame.drop\u001b[39m\u001b[34m(self, labels, axis, index, columns, level, inplace, errors)\u001b[39m\n\u001b[32m   5433\u001b[39m \u001b[38;5;28;01mdef\u001b[39;00m\u001b[38;5;250m \u001b[39m\u001b[34mdrop\u001b[39m(\n\u001b[32m   5434\u001b[39m     \u001b[38;5;28mself\u001b[39m,\n\u001b[32m   5435\u001b[39m     labels: IndexLabel | \u001b[38;5;28;01mNone\u001b[39;00m = \u001b[38;5;28;01mNone\u001b[39;00m,\n\u001b[32m   (...)\u001b[39m\u001b[32m   5442\u001b[39m     errors: IgnoreRaise = \u001b[33m\"\u001b[39m\u001b[33mraise\u001b[39m\u001b[33m\"\u001b[39m,\n\u001b[32m   5443\u001b[39m ) -> DataFrame | \u001b[38;5;28;01mNone\u001b[39;00m:\n\u001b[32m   5444\u001b[39m \u001b[38;5;250m    \u001b[39m\u001b[33;03m\"\"\"\u001b[39;00m\n\u001b[32m   5445\u001b[39m \u001b[33;03m    Drop specified labels from rows or columns.\u001b[39;00m\n\u001b[32m   5446\u001b[39m \n\u001b[32m   (...)\u001b[39m\u001b[32m   5579\u001b[39m \u001b[33;03m            weight  1.0     0.8\u001b[39;00m\n\u001b[32m   5580\u001b[39m \u001b[33;03m    \"\"\"\u001b[39;00m\n\u001b[32m-> \u001b[39m\u001b[32m5581\u001b[39m     \u001b[38;5;28;01mreturn\u001b[39;00m \u001b[38;5;28;43msuper\u001b[39;49m\u001b[43m(\u001b[49m\u001b[43m)\u001b[49m\u001b[43m.\u001b[49m\u001b[43mdrop\u001b[49m\u001b[43m(\u001b[49m\n\u001b[32m   5582\u001b[39m \u001b[43m        \u001b[49m\u001b[43mlabels\u001b[49m\u001b[43m=\u001b[49m\u001b[43mlabels\u001b[49m\u001b[43m,\u001b[49m\n\u001b[32m   5583\u001b[39m \u001b[43m        \u001b[49m\u001b[43maxis\u001b[49m\u001b[43m=\u001b[49m\u001b[43maxis\u001b[49m\u001b[43m,\u001b[49m\n\u001b[32m   5584\u001b[39m \u001b[43m        \u001b[49m\u001b[43mindex\u001b[49m\u001b[43m=\u001b[49m\u001b[43mindex\u001b[49m\u001b[43m,\u001b[49m\n\u001b[32m   5585\u001b[39m \u001b[43m        \u001b[49m\u001b[43mcolumns\u001b[49m\u001b[43m=\u001b[49m\u001b[43mcolumns\u001b[49m\u001b[43m,\u001b[49m\n\u001b[32m   5586\u001b[39m \u001b[43m        \u001b[49m\u001b[43mlevel\u001b[49m\u001b[43m=\u001b[49m\u001b[43mlevel\u001b[49m\u001b[43m,\u001b[49m\n\u001b[32m   5587\u001b[39m \u001b[43m        \u001b[49m\u001b[43minplace\u001b[49m\u001b[43m=\u001b[49m\u001b[43minplace\u001b[49m\u001b[43m,\u001b[49m\n\u001b[32m   5588\u001b[39m \u001b[43m        \u001b[49m\u001b[43merrors\u001b[49m\u001b[43m=\u001b[49m\u001b[43merrors\u001b[49m\u001b[43m,\u001b[49m\n\u001b[32m   5589\u001b[39m \u001b[43m    \u001b[49m\u001b[43m)\u001b[49m\n",
      "\u001b[36mFile \u001b[39m\u001b[32mc:\\Users\\Administrador\\Python\\Lib\\site-packages\\pandas\\core\\generic.py:4788\u001b[39m, in \u001b[36mNDFrame.drop\u001b[39m\u001b[34m(self, labels, axis, index, columns, level, inplace, errors)\u001b[39m\n\u001b[32m   4786\u001b[39m \u001b[38;5;28;01mfor\u001b[39;00m axis, labels \u001b[38;5;129;01min\u001b[39;00m axes.items():\n\u001b[32m   4787\u001b[39m     \u001b[38;5;28;01mif\u001b[39;00m labels \u001b[38;5;129;01mis\u001b[39;00m \u001b[38;5;129;01mnot\u001b[39;00m \u001b[38;5;28;01mNone\u001b[39;00m:\n\u001b[32m-> \u001b[39m\u001b[32m4788\u001b[39m         obj = \u001b[43mobj\u001b[49m\u001b[43m.\u001b[49m\u001b[43m_drop_axis\u001b[49m\u001b[43m(\u001b[49m\u001b[43mlabels\u001b[49m\u001b[43m,\u001b[49m\u001b[43m \u001b[49m\u001b[43maxis\u001b[49m\u001b[43m,\u001b[49m\u001b[43m \u001b[49m\u001b[43mlevel\u001b[49m\u001b[43m=\u001b[49m\u001b[43mlevel\u001b[49m\u001b[43m,\u001b[49m\u001b[43m \u001b[49m\u001b[43merrors\u001b[49m\u001b[43m=\u001b[49m\u001b[43merrors\u001b[49m\u001b[43m)\u001b[49m\n\u001b[32m   4790\u001b[39m \u001b[38;5;28;01mif\u001b[39;00m inplace:\n\u001b[32m   4791\u001b[39m     \u001b[38;5;28mself\u001b[39m._update_inplace(obj)\n",
      "\u001b[36mFile \u001b[39m\u001b[32mc:\\Users\\Administrador\\Python\\Lib\\site-packages\\pandas\\core\\generic.py:4830\u001b[39m, in \u001b[36mNDFrame._drop_axis\u001b[39m\u001b[34m(self, labels, axis, level, errors, only_slice)\u001b[39m\n\u001b[32m   4828\u001b[39m         new_axis = axis.drop(labels, level=level, errors=errors)\n\u001b[32m   4829\u001b[39m     \u001b[38;5;28;01melse\u001b[39;00m:\n\u001b[32m-> \u001b[39m\u001b[32m4830\u001b[39m         new_axis = \u001b[43maxis\u001b[49m\u001b[43m.\u001b[49m\u001b[43mdrop\u001b[49m\u001b[43m(\u001b[49m\u001b[43mlabels\u001b[49m\u001b[43m,\u001b[49m\u001b[43m \u001b[49m\u001b[43merrors\u001b[49m\u001b[43m=\u001b[49m\u001b[43merrors\u001b[49m\u001b[43m)\u001b[49m\n\u001b[32m   4831\u001b[39m     indexer = axis.get_indexer(new_axis)\n\u001b[32m   4833\u001b[39m \u001b[38;5;66;03m# Case for non-unique axis\u001b[39;00m\n\u001b[32m   4834\u001b[39m \u001b[38;5;28;01melse\u001b[39;00m:\n",
      "\u001b[36mFile \u001b[39m\u001b[32mc:\\Users\\Administrador\\Python\\Lib\\site-packages\\pandas\\core\\indexes\\base.py:7070\u001b[39m, in \u001b[36mIndex.drop\u001b[39m\u001b[34m(self, labels, errors)\u001b[39m\n\u001b[32m   7068\u001b[39m \u001b[38;5;28;01mif\u001b[39;00m mask.any():\n\u001b[32m   7069\u001b[39m     \u001b[38;5;28;01mif\u001b[39;00m errors != \u001b[33m\"\u001b[39m\u001b[33mignore\u001b[39m\u001b[33m\"\u001b[39m:\n\u001b[32m-> \u001b[39m\u001b[32m7070\u001b[39m         \u001b[38;5;28;01mraise\u001b[39;00m \u001b[38;5;167;01mKeyError\u001b[39;00m(\u001b[33mf\u001b[39m\u001b[33m\"\u001b[39m\u001b[38;5;132;01m{\u001b[39;00mlabels[mask].tolist()\u001b[38;5;132;01m}\u001b[39;00m\u001b[33m not found in axis\u001b[39m\u001b[33m\"\u001b[39m)\n\u001b[32m   7071\u001b[39m     indexer = indexer[~mask]\n\u001b[32m   7072\u001b[39m \u001b[38;5;28;01mreturn\u001b[39;00m \u001b[38;5;28mself\u001b[39m.delete(indexer)\n",
      "\u001b[31mKeyError\u001b[39m: \"['bathrooms', 'bedrooms', 'beds'] not found in axis\""
     ]
    }
   ],
   "source": [
    "df1.drop(['bathrooms', 'bedrooms', 'beds'], axis=1, inplace=True)"
   ]
  },
  {
   "cell_type": "code",
   "execution_count": null,
   "id": "16c49860",
   "metadata": {},
   "outputs": [
    {
     "data": {
      "text/plain": [
       "id                      0\n",
       "number_of_reviews       0\n",
       "review_scores_rating    0\n",
       "dtype: int64"
      ]
     },
     "execution_count": 30,
     "metadata": {},
     "output_type": "execute_result"
    }
   ],
   "source": [
    "df2.isnull().sum()"
   ]
  },
  {
   "cell_type": "markdown",
   "id": "f02c9636",
   "metadata": {},
   "source": [
    "Aparentemente, o segundo dataframe tem menos informações, pois nem todos quartos receberam reviews e possivelmente estes não foram incluídos no segundo data frame com valores de reviews nulos. Então o merge será feito com base nesta informação."
   ]
  },
  {
   "cell_type": "code",
   "execution_count": null,
   "id": "e5419de7",
   "metadata": {},
   "outputs": [],
   "source": [
    "dfmain = pd.merge(df1, df2, how='left', on=['id'])"
   ]
  },
  {
   "cell_type": "code",
   "execution_count": null,
   "id": "935a62c7",
   "metadata": {},
   "outputs": [
    {
     "data": {
      "text/html": [
       "<div>\n",
       "<style scoped>\n",
       "    .dataframe tbody tr th:only-of-type {\n",
       "        vertical-align: middle;\n",
       "    }\n",
       "\n",
       "    .dataframe tbody tr th {\n",
       "        vertical-align: top;\n",
       "    }\n",
       "\n",
       "    .dataframe thead th {\n",
       "        text-align: right;\n",
       "    }\n",
       "</style>\n",
       "<table border=\"1\" class=\"dataframe\">\n",
       "  <thead>\n",
       "    <tr style=\"text-align: right;\">\n",
       "      <th></th>\n",
       "      <th>id</th>\n",
       "      <th>neighbourhood_cleansed</th>\n",
       "      <th>room_type</th>\n",
       "      <th>accommodates</th>\n",
       "      <th>price</th>\n",
       "      <th>number_of_reviews</th>\n",
       "      <th>review_scores_rating</th>\n",
       "    </tr>\n",
       "  </thead>\n",
       "  <tbody>\n",
       "    <tr>\n",
       "      <th>0</th>\n",
       "      <td>271975</td>\n",
       "      <td>Vidigal</td>\n",
       "      <td>Entire home/apt</td>\n",
       "      <td>4</td>\n",
       "      <td>236.0</td>\n",
       "      <td>NaN</td>\n",
       "      <td>NaN</td>\n",
       "    </tr>\n",
       "    <tr>\n",
       "      <th>1</th>\n",
       "      <td>272335</td>\n",
       "      <td>Copacabana</td>\n",
       "      <td>Entire home/apt</td>\n",
       "      <td>4</td>\n",
       "      <td>723.0</td>\n",
       "      <td>367.0</td>\n",
       "      <td>4.920000</td>\n",
       "    </tr>\n",
       "    <tr>\n",
       "      <th>2</th>\n",
       "      <td>272631</td>\n",
       "      <td>Copacabana</td>\n",
       "      <td>Private room</td>\n",
       "      <td>2</td>\n",
       "      <td>1146.0</td>\n",
       "      <td>32.0</td>\n",
       "      <td>5.000000</td>\n",
       "    </tr>\n",
       "    <tr>\n",
       "      <th>3</th>\n",
       "      <td>273261</td>\n",
       "      <td>Leblon</td>\n",
       "      <td>Entire home/apt</td>\n",
       "      <td>6</td>\n",
       "      <td>6742.0</td>\n",
       "      <td>0.0</td>\n",
       "      <td>4.812309</td>\n",
       "    </tr>\n",
       "    <tr>\n",
       "      <th>4</th>\n",
       "      <td>273363</td>\n",
       "      <td>Santa Teresa</td>\n",
       "      <td>Private room</td>\n",
       "      <td>1</td>\n",
       "      <td>61.0</td>\n",
       "      <td>5.0</td>\n",
       "      <td>5.000000</td>\n",
       "    </tr>\n",
       "    <tr>\n",
       "      <th>5</th>\n",
       "      <td>273463</td>\n",
       "      <td>Lagoa</td>\n",
       "      <td>Entire home/apt</td>\n",
       "      <td>6</td>\n",
       "      <td>1411.0</td>\n",
       "      <td>654.0</td>\n",
       "      <td>4.830000</td>\n",
       "    </tr>\n",
       "    <tr>\n",
       "      <th>6</th>\n",
       "      <td>273496</td>\n",
       "      <td>Leblon</td>\n",
       "      <td>Entire home/apt</td>\n",
       "      <td>6</td>\n",
       "      <td>703.0</td>\n",
       "      <td>60.0</td>\n",
       "      <td>4.800000</td>\n",
       "    </tr>\n",
       "    <tr>\n",
       "      <th>7</th>\n",
       "      <td>273753</td>\n",
       "      <td>Santa Teresa</td>\n",
       "      <td>Private room</td>\n",
       "      <td>1</td>\n",
       "      <td>59.0</td>\n",
       "      <td>4.0</td>\n",
       "      <td>4.500000</td>\n",
       "    </tr>\n",
       "  </tbody>\n",
       "</table>\n",
       "</div>"
      ],
      "text/plain": [
       "       id neighbourhood_cleansed        room_type  accommodates   price  \\\n",
       "0  271975                Vidigal  Entire home/apt             4   236.0   \n",
       "1  272335             Copacabana  Entire home/apt             4   723.0   \n",
       "2  272631             Copacabana     Private room             2  1146.0   \n",
       "3  273261                 Leblon  Entire home/apt             6  6742.0   \n",
       "4  273363           Santa Teresa     Private room             1    61.0   \n",
       "5  273463                  Lagoa  Entire home/apt             6  1411.0   \n",
       "6  273496                 Leblon  Entire home/apt             6   703.0   \n",
       "7  273753           Santa Teresa     Private room             1    59.0   \n",
       "\n",
       "   number_of_reviews  review_scores_rating  \n",
       "0                NaN                   NaN  \n",
       "1              367.0              4.920000  \n",
       "2               32.0              5.000000  \n",
       "3                0.0              4.812309  \n",
       "4                5.0              5.000000  \n",
       "5              654.0              4.830000  \n",
       "6               60.0              4.800000  \n",
       "7                4.0              4.500000  "
      ]
     },
     "execution_count": 32,
     "metadata": {},
     "output_type": "execute_result"
    }
   ],
   "source": [
    "dfmain.head(8)"
   ]
  },
  {
   "cell_type": "code",
   "execution_count": null,
   "id": "a7058ecd",
   "metadata": {},
   "outputs": [
    {
     "data": {
      "text/plain": [
       "(39499, 7)"
      ]
     },
     "execution_count": 42,
     "metadata": {},
     "output_type": "execute_result"
    }
   ],
   "source": [
    "dfmain.shape"
   ]
  },
  {
   "cell_type": "markdown",
   "id": "58c2b7a9",
   "metadata": {},
   "source": [
    "Observando se os valores nulos de ambas colunas que contém este meliante (valores vazios), possuem a mesma quantidade de linhas."
   ]
  },
  {
   "cell_type": "code",
   "execution_count": null,
   "id": "9e7400d6",
   "metadata": {},
   "outputs": [
    {
     "data": {
      "text/html": [
       "<div>\n",
       "<style scoped>\n",
       "    .dataframe tbody tr th:only-of-type {\n",
       "        vertical-align: middle;\n",
       "    }\n",
       "\n",
       "    .dataframe tbody tr th {\n",
       "        vertical-align: top;\n",
       "    }\n",
       "\n",
       "    .dataframe thead th {\n",
       "        text-align: right;\n",
       "    }\n",
       "</style>\n",
       "<table border=\"1\" class=\"dataframe\">\n",
       "  <thead>\n",
       "    <tr style=\"text-align: right;\">\n",
       "      <th></th>\n",
       "      <th>id</th>\n",
       "      <th>neighbourhood_cleansed</th>\n",
       "      <th>room_type</th>\n",
       "      <th>accommodates</th>\n",
       "      <th>price</th>\n",
       "      <th>number_of_reviews</th>\n",
       "      <th>review_scores_rating</th>\n",
       "    </tr>\n",
       "  </thead>\n",
       "  <tbody>\n",
       "    <tr>\n",
       "      <th>0</th>\n",
       "      <td>271975</td>\n",
       "      <td>Vidigal</td>\n",
       "      <td>Entire home/apt</td>\n",
       "      <td>4</td>\n",
       "      <td>236.0</td>\n",
       "      <td>NaN</td>\n",
       "      <td>NaN</td>\n",
       "    </tr>\n",
       "    <tr>\n",
       "      <th>14</th>\n",
       "      <td>48901</td>\n",
       "      <td>Copacabana</td>\n",
       "      <td>Entire home/apt</td>\n",
       "      <td>11</td>\n",
       "      <td>NaN</td>\n",
       "      <td>NaN</td>\n",
       "      <td>NaN</td>\n",
       "    </tr>\n",
       "    <tr>\n",
       "      <th>18</th>\n",
       "      <td>278745</td>\n",
       "      <td>Ipanema</td>\n",
       "      <td>Entire home/apt</td>\n",
       "      <td>5</td>\n",
       "      <td>5394.0</td>\n",
       "      <td>NaN</td>\n",
       "      <td>NaN</td>\n",
       "    </tr>\n",
       "    <tr>\n",
       "      <th>19</th>\n",
       "      <td>280625</td>\n",
       "      <td>Botafogo</td>\n",
       "      <td>Private room</td>\n",
       "      <td>3</td>\n",
       "      <td>377.0</td>\n",
       "      <td>NaN</td>\n",
       "      <td>NaN</td>\n",
       "    </tr>\n",
       "    <tr>\n",
       "      <th>23</th>\n",
       "      <td>282071</td>\n",
       "      <td>Flamengo</td>\n",
       "      <td>Entire home/apt</td>\n",
       "      <td>2</td>\n",
       "      <td>438.0</td>\n",
       "      <td>NaN</td>\n",
       "      <td>NaN</td>\n",
       "    </tr>\n",
       "    <tr>\n",
       "      <th>...</th>\n",
       "      <td>...</td>\n",
       "      <td>...</td>\n",
       "      <td>...</td>\n",
       "      <td>...</td>\n",
       "      <td>...</td>\n",
       "      <td>...</td>\n",
       "      <td>...</td>\n",
       "    </tr>\n",
       "    <tr>\n",
       "      <th>39464</th>\n",
       "      <td>1319098256127948541</td>\n",
       "      <td>Copacabana</td>\n",
       "      <td>Entire home/apt</td>\n",
       "      <td>7</td>\n",
       "      <td>3214.0</td>\n",
       "      <td>NaN</td>\n",
       "      <td>NaN</td>\n",
       "    </tr>\n",
       "    <tr>\n",
       "      <th>39477</th>\n",
       "      <td>1319505930858342161</td>\n",
       "      <td>Glória</td>\n",
       "      <td>Entire home/apt</td>\n",
       "      <td>4</td>\n",
       "      <td>1057.0</td>\n",
       "      <td>NaN</td>\n",
       "      <td>NaN</td>\n",
       "    </tr>\n",
       "    <tr>\n",
       "      <th>39480</th>\n",
       "      <td>1319513224061078191</td>\n",
       "      <td>Joá</td>\n",
       "      <td>Entire home/apt</td>\n",
       "      <td>12</td>\n",
       "      <td>14950.0</td>\n",
       "      <td>NaN</td>\n",
       "      <td>NaN</td>\n",
       "    </tr>\n",
       "    <tr>\n",
       "      <th>39482</th>\n",
       "      <td>1319533235891441001</td>\n",
       "      <td>Copacabana</td>\n",
       "      <td>Private room</td>\n",
       "      <td>2</td>\n",
       "      <td>609.0</td>\n",
       "      <td>NaN</td>\n",
       "      <td>NaN</td>\n",
       "    </tr>\n",
       "    <tr>\n",
       "      <th>39491</th>\n",
       "      <td>1319585715454181161</td>\n",
       "      <td>Copacabana</td>\n",
       "      <td>Entire home/apt</td>\n",
       "      <td>10</td>\n",
       "      <td>7500.0</td>\n",
       "      <td>NaN</td>\n",
       "      <td>NaN</td>\n",
       "    </tr>\n",
       "  </tbody>\n",
       "</table>\n",
       "<p>6804 rows × 7 columns</p>\n",
       "</div>"
      ],
      "text/plain": [
       "                        id neighbourhood_cleansed        room_type  \\\n",
       "0                   271975                Vidigal  Entire home/apt   \n",
       "14                   48901             Copacabana  Entire home/apt   \n",
       "18                  278745                Ipanema  Entire home/apt   \n",
       "19                  280625               Botafogo     Private room   \n",
       "23                  282071               Flamengo  Entire home/apt   \n",
       "...                    ...                    ...              ...   \n",
       "39464  1319098256127948541             Copacabana  Entire home/apt   \n",
       "39477  1319505930858342161                 Glória  Entire home/apt   \n",
       "39480  1319513224061078191                    Joá  Entire home/apt   \n",
       "39482  1319533235891441001             Copacabana     Private room   \n",
       "39491  1319585715454181161             Copacabana  Entire home/apt   \n",
       "\n",
       "       accommodates    price  number_of_reviews  review_scores_rating  \n",
       "0                 4    236.0                NaN                   NaN  \n",
       "14               11      NaN                NaN                   NaN  \n",
       "18                5   5394.0                NaN                   NaN  \n",
       "19                3    377.0                NaN                   NaN  \n",
       "23                2    438.0                NaN                   NaN  \n",
       "...             ...      ...                ...                   ...  \n",
       "39464             7   3214.0                NaN                   NaN  \n",
       "39477             4   1057.0                NaN                   NaN  \n",
       "39480            12  14950.0                NaN                   NaN  \n",
       "39482             2    609.0                NaN                   NaN  \n",
       "39491            10   7500.0                NaN                   NaN  \n",
       "\n",
       "[6804 rows x 7 columns]"
      ]
     },
     "execution_count": 33,
     "metadata": {},
     "output_type": "execute_result"
    }
   ],
   "source": [
    "dfmain[dfmain['number_of_reviews'].isnull()]"
   ]
  },
  {
   "cell_type": "code",
   "execution_count": null,
   "id": "6c44d90d",
   "metadata": {},
   "outputs": [
    {
     "data": {
      "text/html": [
       "<div>\n",
       "<style scoped>\n",
       "    .dataframe tbody tr th:only-of-type {\n",
       "        vertical-align: middle;\n",
       "    }\n",
       "\n",
       "    .dataframe tbody tr th {\n",
       "        vertical-align: top;\n",
       "    }\n",
       "\n",
       "    .dataframe thead th {\n",
       "        text-align: right;\n",
       "    }\n",
       "</style>\n",
       "<table border=\"1\" class=\"dataframe\">\n",
       "  <thead>\n",
       "    <tr style=\"text-align: right;\">\n",
       "      <th></th>\n",
       "      <th>id</th>\n",
       "      <th>neighbourhood_cleansed</th>\n",
       "      <th>room_type</th>\n",
       "      <th>accommodates</th>\n",
       "      <th>price</th>\n",
       "      <th>number_of_reviews</th>\n",
       "      <th>review_scores_rating</th>\n",
       "    </tr>\n",
       "  </thead>\n",
       "  <tbody>\n",
       "    <tr>\n",
       "      <th>0</th>\n",
       "      <td>271975</td>\n",
       "      <td>Vidigal</td>\n",
       "      <td>Entire home/apt</td>\n",
       "      <td>4</td>\n",
       "      <td>236.0</td>\n",
       "      <td>NaN</td>\n",
       "      <td>NaN</td>\n",
       "    </tr>\n",
       "    <tr>\n",
       "      <th>14</th>\n",
       "      <td>48901</td>\n",
       "      <td>Copacabana</td>\n",
       "      <td>Entire home/apt</td>\n",
       "      <td>11</td>\n",
       "      <td>NaN</td>\n",
       "      <td>NaN</td>\n",
       "      <td>NaN</td>\n",
       "    </tr>\n",
       "    <tr>\n",
       "      <th>18</th>\n",
       "      <td>278745</td>\n",
       "      <td>Ipanema</td>\n",
       "      <td>Entire home/apt</td>\n",
       "      <td>5</td>\n",
       "      <td>5394.0</td>\n",
       "      <td>NaN</td>\n",
       "      <td>NaN</td>\n",
       "    </tr>\n",
       "    <tr>\n",
       "      <th>19</th>\n",
       "      <td>280625</td>\n",
       "      <td>Botafogo</td>\n",
       "      <td>Private room</td>\n",
       "      <td>3</td>\n",
       "      <td>377.0</td>\n",
       "      <td>NaN</td>\n",
       "      <td>NaN</td>\n",
       "    </tr>\n",
       "    <tr>\n",
       "      <th>23</th>\n",
       "      <td>282071</td>\n",
       "      <td>Flamengo</td>\n",
       "      <td>Entire home/apt</td>\n",
       "      <td>2</td>\n",
       "      <td>438.0</td>\n",
       "      <td>NaN</td>\n",
       "      <td>NaN</td>\n",
       "    </tr>\n",
       "    <tr>\n",
       "      <th>...</th>\n",
       "      <td>...</td>\n",
       "      <td>...</td>\n",
       "      <td>...</td>\n",
       "      <td>...</td>\n",
       "      <td>...</td>\n",
       "      <td>...</td>\n",
       "      <td>...</td>\n",
       "    </tr>\n",
       "    <tr>\n",
       "      <th>39464</th>\n",
       "      <td>1319098256127948541</td>\n",
       "      <td>Copacabana</td>\n",
       "      <td>Entire home/apt</td>\n",
       "      <td>7</td>\n",
       "      <td>3214.0</td>\n",
       "      <td>NaN</td>\n",
       "      <td>NaN</td>\n",
       "    </tr>\n",
       "    <tr>\n",
       "      <th>39477</th>\n",
       "      <td>1319505930858342161</td>\n",
       "      <td>Glória</td>\n",
       "      <td>Entire home/apt</td>\n",
       "      <td>4</td>\n",
       "      <td>1057.0</td>\n",
       "      <td>NaN</td>\n",
       "      <td>NaN</td>\n",
       "    </tr>\n",
       "    <tr>\n",
       "      <th>39480</th>\n",
       "      <td>1319513224061078191</td>\n",
       "      <td>Joá</td>\n",
       "      <td>Entire home/apt</td>\n",
       "      <td>12</td>\n",
       "      <td>14950.0</td>\n",
       "      <td>NaN</td>\n",
       "      <td>NaN</td>\n",
       "    </tr>\n",
       "    <tr>\n",
       "      <th>39482</th>\n",
       "      <td>1319533235891441001</td>\n",
       "      <td>Copacabana</td>\n",
       "      <td>Private room</td>\n",
       "      <td>2</td>\n",
       "      <td>609.0</td>\n",
       "      <td>NaN</td>\n",
       "      <td>NaN</td>\n",
       "    </tr>\n",
       "    <tr>\n",
       "      <th>39491</th>\n",
       "      <td>1319585715454181161</td>\n",
       "      <td>Copacabana</td>\n",
       "      <td>Entire home/apt</td>\n",
       "      <td>10</td>\n",
       "      <td>7500.0</td>\n",
       "      <td>NaN</td>\n",
       "      <td>NaN</td>\n",
       "    </tr>\n",
       "  </tbody>\n",
       "</table>\n",
       "<p>6804 rows × 7 columns</p>\n",
       "</div>"
      ],
      "text/plain": [
       "                        id neighbourhood_cleansed        room_type  \\\n",
       "0                   271975                Vidigal  Entire home/apt   \n",
       "14                   48901             Copacabana  Entire home/apt   \n",
       "18                  278745                Ipanema  Entire home/apt   \n",
       "19                  280625               Botafogo     Private room   \n",
       "23                  282071               Flamengo  Entire home/apt   \n",
       "...                    ...                    ...              ...   \n",
       "39464  1319098256127948541             Copacabana  Entire home/apt   \n",
       "39477  1319505930858342161                 Glória  Entire home/apt   \n",
       "39480  1319513224061078191                    Joá  Entire home/apt   \n",
       "39482  1319533235891441001             Copacabana     Private room   \n",
       "39491  1319585715454181161             Copacabana  Entire home/apt   \n",
       "\n",
       "       accommodates    price  number_of_reviews  review_scores_rating  \n",
       "0                 4    236.0                NaN                   NaN  \n",
       "14               11      NaN                NaN                   NaN  \n",
       "18                5   5394.0                NaN                   NaN  \n",
       "19                3    377.0                NaN                   NaN  \n",
       "23                2    438.0                NaN                   NaN  \n",
       "...             ...      ...                ...                   ...  \n",
       "39464             7   3214.0                NaN                   NaN  \n",
       "39477             4   1057.0                NaN                   NaN  \n",
       "39480            12  14950.0                NaN                   NaN  \n",
       "39482             2    609.0                NaN                   NaN  \n",
       "39491            10   7500.0                NaN                   NaN  \n",
       "\n",
       "[6804 rows x 7 columns]"
      ]
     },
     "execution_count": 34,
     "metadata": {},
     "output_type": "execute_result"
    }
   ],
   "source": [
    "dfmain[dfmain['review_scores_rating'].isnull()]"
   ]
  },
  {
   "cell_type": "markdown",
   "id": "0786483f",
   "metadata": {},
   "source": [
    "Aqui comecei o data cleaning. O meu problema inicial aqui foi que, se eu apagar as linhas que tenham colunas vazias, não conseguiria fazer uma analise como \"Média do preço de um imóvel em Copacabana\" pois enviezaria minha análise, já que quase 7 mil linhas é um valor razoável de influência. Porém, para fazer a média de reviews por exemplo, os valores nulos atrapalhariam por sua vez se o banco não tivesse providenciado a média de rating. Poderia fazer uma média para preencher os valores nulos, mas minha abordagem daqui pra frente dependeria das perguntas de negócio que fossem solicitadas, ou das perguntas que gostaria de responder e criar uma analise robusta. Em uma situação hipotética, onde eu não teria quais perguntas o cliente quer realizar, farei ambos os métodos, armazenando em variáveis diferentes para trabalhar com o que mais seja conveniente no futuro diante das propostas que podem surgir. Pode ser que acabe por ignorar um dos caminhos, mas ter os dois disponíveis me deixa mais confortável."
   ]
  },
  {
   "cell_type": "code",
   "execution_count": null,
   "id": "5068d8b0",
   "metadata": {},
   "outputs": [],
   "source": [
    "dfmain_sem_nulos = dfmain.dropna(subset=['number_of_reviews', 'review_scores_rating'])"
   ]
  },
  {
   "cell_type": "markdown",
   "id": "ff0ef69c",
   "metadata": {},
   "source": [
    "Interessante aqui é que, ao remover os valores nulos das colunas de rating e reviews, a coluna preço se acertou também. Mas, nem tudo é pêra com chocolate, dos 39499 valores originais, restou 32695 que dá cerca de uns 17% de perca, o que dá uma possibilidade razoável de surgir analises inviezadas."
   ]
  },
  {
   "cell_type": "code",
   "execution_count": null,
   "id": "3138e3d2",
   "metadata": {},
   "outputs": [
    {
     "data": {
      "text/plain": [
       "id                        0\n",
       "neighbourhood_cleansed    0\n",
       "room_type                 0\n",
       "accommodates              0\n",
       "price                     0\n",
       "number_of_reviews         0\n",
       "review_scores_rating      0\n",
       "dtype: int64"
      ]
     },
     "execution_count": 41,
     "metadata": {},
     "output_type": "execute_result"
    }
   ],
   "source": [
    "dfmain_sem_nulos.isnull().sum()"
   ]
  },
  {
   "cell_type": "code",
   "execution_count": null,
   "id": "060f7139",
   "metadata": {},
   "outputs": [
    {
     "data": {
      "text/plain": [
       "(32695, 7)"
      ]
     },
     "execution_count": 37,
     "metadata": {},
     "output_type": "execute_result"
    }
   ],
   "source": [
    "dfmain_sem_nulos.shape"
   ]
  },
  {
   "cell_type": "code",
   "execution_count": null,
   "id": "a6a265a3",
   "metadata": {},
   "outputs": [],
   "source": [
    "dfmain['number_of_reviews'] = dfmain['number_of_reviews'].fillna(dfmain['number_of_reviews'].mean())"
   ]
  },
  {
   "cell_type": "code",
   "execution_count": 49,
   "id": "1c1b9295",
   "metadata": {},
   "outputs": [],
   "source": [
    "dfmain['price'] = dfmain['price'].fillna(dfmain['price'].mean())"
   ]
  },
  {
   "cell_type": "code",
   "execution_count": 51,
   "id": "3b3f8f45",
   "metadata": {},
   "outputs": [],
   "source": [
    "dfmain['review_scores_rating'] = dfmain['review_scores_rating'].fillna(dfmain['review_scores_rating'].mean())"
   ]
  },
  {
   "cell_type": "code",
   "execution_count": 52,
   "id": "c598df60",
   "metadata": {},
   "outputs": [
    {
     "data": {
      "text/plain": [
       "id                        0\n",
       "neighbourhood_cleansed    0\n",
       "room_type                 0\n",
       "accommodates              0\n",
       "price                     0\n",
       "number_of_reviews         0\n",
       "review_scores_rating      0\n",
       "dtype: int64"
      ]
     },
     "execution_count": 52,
     "metadata": {},
     "output_type": "execute_result"
    }
   ],
   "source": [
    "dfmain.isnull().sum()\n"
   ]
  },
  {
   "cell_type": "code",
   "execution_count": 53,
   "id": "2bd1a303",
   "metadata": {},
   "outputs": [
    {
     "data": {
      "text/html": [
       "<div>\n",
       "<style scoped>\n",
       "    .dataframe tbody tr th:only-of-type {\n",
       "        vertical-align: middle;\n",
       "    }\n",
       "\n",
       "    .dataframe tbody tr th {\n",
       "        vertical-align: top;\n",
       "    }\n",
       "\n",
       "    .dataframe thead th {\n",
       "        text-align: right;\n",
       "    }\n",
       "</style>\n",
       "<table border=\"1\" class=\"dataframe\">\n",
       "  <thead>\n",
       "    <tr style=\"text-align: right;\">\n",
       "      <th></th>\n",
       "      <th>id</th>\n",
       "      <th>neighbourhood_cleansed</th>\n",
       "      <th>room_type</th>\n",
       "      <th>accommodates</th>\n",
       "      <th>price</th>\n",
       "      <th>number_of_reviews</th>\n",
       "      <th>review_scores_rating</th>\n",
       "    </tr>\n",
       "  </thead>\n",
       "  <tbody>\n",
       "    <tr>\n",
       "      <th>0</th>\n",
       "      <td>271975</td>\n",
       "      <td>Vidigal</td>\n",
       "      <td>Entire home/apt</td>\n",
       "      <td>4</td>\n",
       "      <td>236.0</td>\n",
       "      <td>24.1321</td>\n",
       "      <td>4.816146</td>\n",
       "    </tr>\n",
       "    <tr>\n",
       "      <th>1</th>\n",
       "      <td>272335</td>\n",
       "      <td>Copacabana</td>\n",
       "      <td>Entire home/apt</td>\n",
       "      <td>4</td>\n",
       "      <td>723.0</td>\n",
       "      <td>367.0000</td>\n",
       "      <td>4.920000</td>\n",
       "    </tr>\n",
       "    <tr>\n",
       "      <th>2</th>\n",
       "      <td>272631</td>\n",
       "      <td>Copacabana</td>\n",
       "      <td>Private room</td>\n",
       "      <td>2</td>\n",
       "      <td>1146.0</td>\n",
       "      <td>32.0000</td>\n",
       "      <td>5.000000</td>\n",
       "    </tr>\n",
       "    <tr>\n",
       "      <th>3</th>\n",
       "      <td>273261</td>\n",
       "      <td>Leblon</td>\n",
       "      <td>Entire home/apt</td>\n",
       "      <td>6</td>\n",
       "      <td>6742.0</td>\n",
       "      <td>0.0000</td>\n",
       "      <td>4.812309</td>\n",
       "    </tr>\n",
       "    <tr>\n",
       "      <th>4</th>\n",
       "      <td>273363</td>\n",
       "      <td>Santa Teresa</td>\n",
       "      <td>Private room</td>\n",
       "      <td>1</td>\n",
       "      <td>61.0</td>\n",
       "      <td>5.0000</td>\n",
       "      <td>5.000000</td>\n",
       "    </tr>\n",
       "    <tr>\n",
       "      <th>5</th>\n",
       "      <td>273463</td>\n",
       "      <td>Lagoa</td>\n",
       "      <td>Entire home/apt</td>\n",
       "      <td>6</td>\n",
       "      <td>1411.0</td>\n",
       "      <td>654.0000</td>\n",
       "      <td>4.830000</td>\n",
       "    </tr>\n",
       "    <tr>\n",
       "      <th>6</th>\n",
       "      <td>273496</td>\n",
       "      <td>Leblon</td>\n",
       "      <td>Entire home/apt</td>\n",
       "      <td>6</td>\n",
       "      <td>703.0</td>\n",
       "      <td>60.0000</td>\n",
       "      <td>4.800000</td>\n",
       "    </tr>\n",
       "    <tr>\n",
       "      <th>7</th>\n",
       "      <td>273753</td>\n",
       "      <td>Santa Teresa</td>\n",
       "      <td>Private room</td>\n",
       "      <td>1</td>\n",
       "      <td>59.0</td>\n",
       "      <td>4.0000</td>\n",
       "      <td>4.500000</td>\n",
       "    </tr>\n",
       "  </tbody>\n",
       "</table>\n",
       "</div>"
      ],
      "text/plain": [
       "       id neighbourhood_cleansed        room_type  accommodates   price  \\\n",
       "0  271975                Vidigal  Entire home/apt             4   236.0   \n",
       "1  272335             Copacabana  Entire home/apt             4   723.0   \n",
       "2  272631             Copacabana     Private room             2  1146.0   \n",
       "3  273261                 Leblon  Entire home/apt             6  6742.0   \n",
       "4  273363           Santa Teresa     Private room             1    61.0   \n",
       "5  273463                  Lagoa  Entire home/apt             6  1411.0   \n",
       "6  273496                 Leblon  Entire home/apt             6   703.0   \n",
       "7  273753           Santa Teresa     Private room             1    59.0   \n",
       "\n",
       "   number_of_reviews  review_scores_rating  \n",
       "0            24.1321              4.816146  \n",
       "1           367.0000              4.920000  \n",
       "2            32.0000              5.000000  \n",
       "3             0.0000              4.812309  \n",
       "4             5.0000              5.000000  \n",
       "5           654.0000              4.830000  \n",
       "6            60.0000              4.800000  \n",
       "7             4.0000              4.500000  "
      ]
     },
     "execution_count": 53,
     "metadata": {},
     "output_type": "execute_result"
    }
   ],
   "source": [
    "dfmain.head(8)"
   ]
  },
  {
   "cell_type": "markdown",
   "id": "abb696c8",
   "metadata": {},
   "source": [
    "Comparando para se ter uma ideia da quantidade de dados de ambos"
   ]
  },
  {
   "cell_type": "code",
   "execution_count": 54,
   "id": "7bb72b48",
   "metadata": {},
   "outputs": [
    {
     "data": {
      "text/plain": [
       "(39499, 7)"
      ]
     },
     "execution_count": 54,
     "metadata": {},
     "output_type": "execute_result"
    }
   ],
   "source": [
    "dfmain.shape"
   ]
  },
  {
   "cell_type": "code",
   "execution_count": 56,
   "id": "0b0b8006",
   "metadata": {},
   "outputs": [
    {
     "data": {
      "text/plain": [
       "(32695, 7)"
      ]
     },
     "execution_count": 56,
     "metadata": {},
     "output_type": "execute_result"
    }
   ],
   "source": [
    "dfmain_sem_nulos.shape"
   ]
  },
  {
   "cell_type": "markdown",
   "id": "60d83268",
   "metadata": {},
   "source": [
    "# Iniciando trabalho com Outliers"
   ]
  },
  {
   "cell_type": "code",
   "execution_count": 59,
   "id": "84c2bc51",
   "metadata": {},
   "outputs": [
    {
     "data": {
      "text/plain": [
       "<Axes: >"
      ]
     },
     "execution_count": 59,
     "metadata": {},
     "output_type": "execute_result"
    },
    {
     "data": {
      "image/png": "[encoded data removed]",
      "text/plain": [
       "<Figure size 640x480 with 1 Axes>"
      ]
     },
     "metadata": {},
     "output_type": "display_data"
    }
   ],
   "source": [
    "dfmain['price'].plot(kind=\"box\")"
   ]
  }
 ],
 "metadata": {
  "kernelspec": {
   "display_name": "Python 3",
   "language": "python",
   "name": "python3"
  },
  "language_info": {
   "codemirror_mode": {
    "name": "ipython",
    "version": 3
   },
   "file_extension": ".py",
   "mimetype": "text/x-python",
   "name": "python",
   "nbconvert_exporter": "python",
   "pygments_lexer": "ipython3",
   "version": "3.13.1"
  }
 },
 "nbformat": 4,
 "nbformat_minor": 5
}
